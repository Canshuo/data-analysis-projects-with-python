{
 "cells": [
  {
   "cell_type": "markdown",
   "metadata": {},
   "source": [
    "## Kaggle project - [Give Me Some Credit](https://www.kaggle.com/c/GiveMeSomeCredit)\n",
    "This script will demonstrate the process of data pre-processing stey by step.\n",
    "<br> Afterwards, two models-logistic regression and random forest have been built to make prediction.\n",
    "<br> I also take a step further to try weight of evidence transformation; althought the result isn't as good as random forest, it achieved a AUC of 0.85 in Kaggle private score.\n",
    "The dataset is i"
   ]
  },
  {
   "cell_type": "code",
   "execution_count": 1,
   "metadata": {},
   "outputs": [],
   "source": [
    "import pandas as pd\n",
    "import numpy as np\n",
    "import matplotlib.pyplot as plt\n",
    "import seaborn as sns\n",
    "import csv\n",
    "import pickle\n",
    "%matplotlib inline\n",
    "\n",
    "pd.set_option('display.max_colwidth',100)"
   ]
  },
  {
   "cell_type": "code",
   "execution_count": 2,
   "metadata": {},
   "outputs": [
    {
     "data": {
      "text/html": [
       "<div>\n",
       "<style scoped>\n",
       "    .dataframe tbody tr th:only-of-type {\n",
       "        vertical-align: middle;\n",
       "    }\n",
       "\n",
       "    .dataframe tbody tr th {\n",
       "        vertical-align: top;\n",
       "    }\n",
       "\n",
       "    .dataframe thead th {\n",
       "        text-align: right;\n",
       "    }\n",
       "</style>\n",
       "<table border=\"1\" class=\"dataframe\">\n",
       "  <thead>\n",
       "    <tr style=\"text-align: right;\">\n",
       "      <th></th>\n",
       "      <th>Variable Name</th>\n",
       "      <th>Description</th>\n",
       "      <th>Type</th>\n",
       "    </tr>\n",
       "  </thead>\n",
       "  <tbody>\n",
       "    <tr>\n",
       "      <th>0</th>\n",
       "      <td>SeriousDlqin2yrs</td>\n",
       "      <td>Person experienced 90 days past due delinquency or worse</td>\n",
       "      <td>Y/N</td>\n",
       "    </tr>\n",
       "    <tr>\n",
       "      <th>1</th>\n",
       "      <td>RevolvingUtilizationOfUnsecuredLines</td>\n",
       "      <td>Total balance on credit cards and personal lines of credit except real estate and no installment...</td>\n",
       "      <td>percentage</td>\n",
       "    </tr>\n",
       "    <tr>\n",
       "      <th>2</th>\n",
       "      <td>age</td>\n",
       "      <td>Age of borrower in years</td>\n",
       "      <td>integer</td>\n",
       "    </tr>\n",
       "    <tr>\n",
       "      <th>3</th>\n",
       "      <td>NumberOfTime30-59DaysPastDueNotWorse</td>\n",
       "      <td>Number of times borrower has been 30-59 days past due but no worse in the last 2 years.</td>\n",
       "      <td>integer</td>\n",
       "    </tr>\n",
       "    <tr>\n",
       "      <th>4</th>\n",
       "      <td>DebtRatio</td>\n",
       "      <td>Monthly debt payments, alimony,living costs divided by monthy gross income</td>\n",
       "      <td>percentage</td>\n",
       "    </tr>\n",
       "    <tr>\n",
       "      <th>5</th>\n",
       "      <td>MonthlyIncome</td>\n",
       "      <td>Monthly income</td>\n",
       "      <td>real</td>\n",
       "    </tr>\n",
       "    <tr>\n",
       "      <th>6</th>\n",
       "      <td>NumberOfOpenCreditLinesAndLoans</td>\n",
       "      <td>Number of Open loans (installment like car loan or mortgage) and Lines of credit (e.g. credit ca...</td>\n",
       "      <td>integer</td>\n",
       "    </tr>\n",
       "    <tr>\n",
       "      <th>7</th>\n",
       "      <td>NumberOfTimes90DaysLate</td>\n",
       "      <td>Number of times borrower has been 90 days or more past due.</td>\n",
       "      <td>integer</td>\n",
       "    </tr>\n",
       "    <tr>\n",
       "      <th>8</th>\n",
       "      <td>NumberRealEstateLoansOrLines</td>\n",
       "      <td>Number of mortgage and real estate loans including home equity lines of credit</td>\n",
       "      <td>integer</td>\n",
       "    </tr>\n",
       "    <tr>\n",
       "      <th>9</th>\n",
       "      <td>NumberOfTime60-89DaysPastDueNotWorse</td>\n",
       "      <td>Number of times borrower has been 60-89 days past due but no worse in the last 2 years.</td>\n",
       "      <td>integer</td>\n",
       "    </tr>\n",
       "    <tr>\n",
       "      <th>10</th>\n",
       "      <td>NumberOfDependents</td>\n",
       "      <td>Number of dependents in family excluding themselves (spouse, children etc.)</td>\n",
       "      <td>integer</td>\n",
       "    </tr>\n",
       "  </tbody>\n",
       "</table>\n",
       "</div>"
      ],
      "text/plain": [
       "                           Variable Name  \\\n",
       "0                       SeriousDlqin2yrs   \n",
       "1   RevolvingUtilizationOfUnsecuredLines   \n",
       "2                                    age   \n",
       "3   NumberOfTime30-59DaysPastDueNotWorse   \n",
       "4                              DebtRatio   \n",
       "5                          MonthlyIncome   \n",
       "6        NumberOfOpenCreditLinesAndLoans   \n",
       "7                NumberOfTimes90DaysLate   \n",
       "8           NumberRealEstateLoansOrLines   \n",
       "9   NumberOfTime60-89DaysPastDueNotWorse   \n",
       "10                    NumberOfDependents   \n",
       "\n",
       "                                                                                            Description  \\\n",
       "0                                             Person experienced 90 days past due delinquency or worse    \n",
       "1   Total balance on credit cards and personal lines of credit except real estate and no installment...   \n",
       "2                                                                              Age of borrower in years   \n",
       "3               Number of times borrower has been 30-59 days past due but no worse in the last 2 years.   \n",
       "4                            Monthly debt payments, alimony,living costs divided by monthy gross income   \n",
       "5                                                                                        Monthly income   \n",
       "6   Number of Open loans (installment like car loan or mortgage) and Lines of credit (e.g. credit ca...   \n",
       "7                                           Number of times borrower has been 90 days or more past due.   \n",
       "8                        Number of mortgage and real estate loans including home equity lines of credit   \n",
       "9               Number of times borrower has been 60-89 days past due but no worse in the last 2 years.   \n",
       "10                          Number of dependents in family excluding themselves (spouse, children etc.)   \n",
       "\n",
       "          Type  \n",
       "0          Y/N  \n",
       "1   percentage  \n",
       "2      integer  \n",
       "3      integer  \n",
       "4   percentage  \n",
       "5         real  \n",
       "6      integer  \n",
       "7      integer  \n",
       "8      integer  \n",
       "9      integer  \n",
       "10     integer  "
      ]
     },
     "execution_count": 2,
     "metadata": {},
     "output_type": "execute_result"
    }
   ],
   "source": [
    "directory = r'/Users/canshuoguo/Downloads/GiveMeSomeCredit/'\n",
    "data_description = pd.read_excel(directory+'Data Dictionary.xls',header=1)\n",
    "data_description"
   ]
  },
  {
   "cell_type": "code",
   "execution_count": 3,
   "metadata": {},
   "outputs": [
    {
     "data": {
      "text/html": [
       "<div>\n",
       "<style scoped>\n",
       "    .dataframe tbody tr th:only-of-type {\n",
       "        vertical-align: middle;\n",
       "    }\n",
       "\n",
       "    .dataframe tbody tr th {\n",
       "        vertical-align: top;\n",
       "    }\n",
       "\n",
       "    .dataframe thead th {\n",
       "        text-align: right;\n",
       "    }\n",
       "</style>\n",
       "<table border=\"1\" class=\"dataframe\">\n",
       "  <thead>\n",
       "    <tr style=\"text-align: right;\">\n",
       "      <th></th>\n",
       "      <th>Unnamed: 0</th>\n",
       "      <th>SeriousDlqin2yrs</th>\n",
       "      <th>RevolvingUtilizationOfUnsecuredLines</th>\n",
       "      <th>age</th>\n",
       "      <th>NumberOfTime30-59DaysPastDueNotWorse</th>\n",
       "      <th>DebtRatio</th>\n",
       "      <th>MonthlyIncome</th>\n",
       "      <th>NumberOfOpenCreditLinesAndLoans</th>\n",
       "      <th>NumberOfTimes90DaysLate</th>\n",
       "      <th>NumberRealEstateLoansOrLines</th>\n",
       "      <th>NumberOfTime60-89DaysPastDueNotWorse</th>\n",
       "      <th>NumberOfDependents</th>\n",
       "    </tr>\n",
       "  </thead>\n",
       "  <tbody>\n",
       "    <tr>\n",
       "      <th>0</th>\n",
       "      <td>1</td>\n",
       "      <td>1</td>\n",
       "      <td>0.766127</td>\n",
       "      <td>45</td>\n",
       "      <td>2</td>\n",
       "      <td>0.802982</td>\n",
       "      <td>9120.0</td>\n",
       "      <td>13</td>\n",
       "      <td>0</td>\n",
       "      <td>6</td>\n",
       "      <td>0</td>\n",
       "      <td>2.0</td>\n",
       "    </tr>\n",
       "    <tr>\n",
       "      <th>1</th>\n",
       "      <td>2</td>\n",
       "      <td>0</td>\n",
       "      <td>0.957151</td>\n",
       "      <td>40</td>\n",
       "      <td>0</td>\n",
       "      <td>0.121876</td>\n",
       "      <td>2600.0</td>\n",
       "      <td>4</td>\n",
       "      <td>0</td>\n",
       "      <td>0</td>\n",
       "      <td>0</td>\n",
       "      <td>1.0</td>\n",
       "    </tr>\n",
       "    <tr>\n",
       "      <th>2</th>\n",
       "      <td>3</td>\n",
       "      <td>0</td>\n",
       "      <td>0.658180</td>\n",
       "      <td>38</td>\n",
       "      <td>1</td>\n",
       "      <td>0.085113</td>\n",
       "      <td>3042.0</td>\n",
       "      <td>2</td>\n",
       "      <td>1</td>\n",
       "      <td>0</td>\n",
       "      <td>0</td>\n",
       "      <td>0.0</td>\n",
       "    </tr>\n",
       "    <tr>\n",
       "      <th>3</th>\n",
       "      <td>4</td>\n",
       "      <td>0</td>\n",
       "      <td>0.233810</td>\n",
       "      <td>30</td>\n",
       "      <td>0</td>\n",
       "      <td>0.036050</td>\n",
       "      <td>3300.0</td>\n",
       "      <td>5</td>\n",
       "      <td>0</td>\n",
       "      <td>0</td>\n",
       "      <td>0</td>\n",
       "      <td>0.0</td>\n",
       "    </tr>\n",
       "    <tr>\n",
       "      <th>4</th>\n",
       "      <td>5</td>\n",
       "      <td>0</td>\n",
       "      <td>0.907239</td>\n",
       "      <td>49</td>\n",
       "      <td>1</td>\n",
       "      <td>0.024926</td>\n",
       "      <td>63588.0</td>\n",
       "      <td>7</td>\n",
       "      <td>0</td>\n",
       "      <td>1</td>\n",
       "      <td>0</td>\n",
       "      <td>0.0</td>\n",
       "    </tr>\n",
       "    <tr>\n",
       "      <th>...</th>\n",
       "      <td>...</td>\n",
       "      <td>...</td>\n",
       "      <td>...</td>\n",
       "      <td>...</td>\n",
       "      <td>...</td>\n",
       "      <td>...</td>\n",
       "      <td>...</td>\n",
       "      <td>...</td>\n",
       "      <td>...</td>\n",
       "      <td>...</td>\n",
       "      <td>...</td>\n",
       "      <td>...</td>\n",
       "    </tr>\n",
       "    <tr>\n",
       "      <th>149995</th>\n",
       "      <td>149996</td>\n",
       "      <td>0</td>\n",
       "      <td>0.040674</td>\n",
       "      <td>74</td>\n",
       "      <td>0</td>\n",
       "      <td>0.225131</td>\n",
       "      <td>2100.0</td>\n",
       "      <td>4</td>\n",
       "      <td>0</td>\n",
       "      <td>1</td>\n",
       "      <td>0</td>\n",
       "      <td>0.0</td>\n",
       "    </tr>\n",
       "    <tr>\n",
       "      <th>149996</th>\n",
       "      <td>149997</td>\n",
       "      <td>0</td>\n",
       "      <td>0.299745</td>\n",
       "      <td>44</td>\n",
       "      <td>0</td>\n",
       "      <td>0.716562</td>\n",
       "      <td>5584.0</td>\n",
       "      <td>4</td>\n",
       "      <td>0</td>\n",
       "      <td>1</td>\n",
       "      <td>0</td>\n",
       "      <td>2.0</td>\n",
       "    </tr>\n",
       "    <tr>\n",
       "      <th>149997</th>\n",
       "      <td>149998</td>\n",
       "      <td>0</td>\n",
       "      <td>0.246044</td>\n",
       "      <td>58</td>\n",
       "      <td>0</td>\n",
       "      <td>3870.000000</td>\n",
       "      <td>NaN</td>\n",
       "      <td>18</td>\n",
       "      <td>0</td>\n",
       "      <td>1</td>\n",
       "      <td>0</td>\n",
       "      <td>0.0</td>\n",
       "    </tr>\n",
       "    <tr>\n",
       "      <th>149998</th>\n",
       "      <td>149999</td>\n",
       "      <td>0</td>\n",
       "      <td>0.000000</td>\n",
       "      <td>30</td>\n",
       "      <td>0</td>\n",
       "      <td>0.000000</td>\n",
       "      <td>5716.0</td>\n",
       "      <td>4</td>\n",
       "      <td>0</td>\n",
       "      <td>0</td>\n",
       "      <td>0</td>\n",
       "      <td>0.0</td>\n",
       "    </tr>\n",
       "    <tr>\n",
       "      <th>149999</th>\n",
       "      <td>150000</td>\n",
       "      <td>0</td>\n",
       "      <td>0.850283</td>\n",
       "      <td>64</td>\n",
       "      <td>0</td>\n",
       "      <td>0.249908</td>\n",
       "      <td>8158.0</td>\n",
       "      <td>8</td>\n",
       "      <td>0</td>\n",
       "      <td>2</td>\n",
       "      <td>0</td>\n",
       "      <td>0.0</td>\n",
       "    </tr>\n",
       "  </tbody>\n",
       "</table>\n",
       "<p>150000 rows × 12 columns</p>\n",
       "</div>"
      ],
      "text/plain": [
       "        Unnamed: 0  SeriousDlqin2yrs  RevolvingUtilizationOfUnsecuredLines  \\\n",
       "0                1                 1                              0.766127   \n",
       "1                2                 0                              0.957151   \n",
       "2                3                 0                              0.658180   \n",
       "3                4                 0                              0.233810   \n",
       "4                5                 0                              0.907239   \n",
       "...            ...               ...                                   ...   \n",
       "149995      149996                 0                              0.040674   \n",
       "149996      149997                 0                              0.299745   \n",
       "149997      149998                 0                              0.246044   \n",
       "149998      149999                 0                              0.000000   \n",
       "149999      150000                 0                              0.850283   \n",
       "\n",
       "        age  NumberOfTime30-59DaysPastDueNotWorse    DebtRatio  MonthlyIncome  \\\n",
       "0        45                                     2     0.802982         9120.0   \n",
       "1        40                                     0     0.121876         2600.0   \n",
       "2        38                                     1     0.085113         3042.0   \n",
       "3        30                                     0     0.036050         3300.0   \n",
       "4        49                                     1     0.024926        63588.0   \n",
       "...     ...                                   ...          ...            ...   \n",
       "149995   74                                     0     0.225131         2100.0   \n",
       "149996   44                                     0     0.716562         5584.0   \n",
       "149997   58                                     0  3870.000000            NaN   \n",
       "149998   30                                     0     0.000000         5716.0   \n",
       "149999   64                                     0     0.249908         8158.0   \n",
       "\n",
       "        NumberOfOpenCreditLinesAndLoans  NumberOfTimes90DaysLate  \\\n",
       "0                                    13                        0   \n",
       "1                                     4                        0   \n",
       "2                                     2                        1   \n",
       "3                                     5                        0   \n",
       "4                                     7                        0   \n",
       "...                                 ...                      ...   \n",
       "149995                                4                        0   \n",
       "149996                                4                        0   \n",
       "149997                               18                        0   \n",
       "149998                                4                        0   \n",
       "149999                                8                        0   \n",
       "\n",
       "        NumberRealEstateLoansOrLines  NumberOfTime60-89DaysPastDueNotWorse  \\\n",
       "0                                  6                                     0   \n",
       "1                                  0                                     0   \n",
       "2                                  0                                     0   \n",
       "3                                  0                                     0   \n",
       "4                                  1                                     0   \n",
       "...                              ...                                   ...   \n",
       "149995                             1                                     0   \n",
       "149996                             1                                     0   \n",
       "149997                             1                                     0   \n",
       "149998                             0                                     0   \n",
       "149999                             2                                     0   \n",
       "\n",
       "        NumberOfDependents  \n",
       "0                      2.0  \n",
       "1                      1.0  \n",
       "2                      0.0  \n",
       "3                      0.0  \n",
       "4                      0.0  \n",
       "...                    ...  \n",
       "149995                 0.0  \n",
       "149996                 2.0  \n",
       "149997                 0.0  \n",
       "149998                 0.0  \n",
       "149999                 0.0  \n",
       "\n",
       "[150000 rows x 12 columns]"
      ]
     },
     "execution_count": 3,
     "metadata": {},
     "output_type": "execute_result"
    }
   ],
   "source": [
    "train_data = pd.read_csv(directory+'cs-training.csv')\n",
    "train_data "
   ]
  },
  {
   "cell_type": "code",
   "execution_count": 4,
   "metadata": {},
   "outputs": [
    {
     "name": "stdout",
     "output_type": "stream",
     "text": [
      "<class 'pandas.core.frame.DataFrame'>\n",
      "RangeIndex: 150000 entries, 0 to 149999\n",
      "Data columns (total 11 columns):\n",
      " #   Column                                Non-Null Count   Dtype  \n",
      "---  ------                                --------------   -----  \n",
      " 0   SeriousDlqin2yrs                      150000 non-null  int64  \n",
      " 1   RevolvingUtilizationOfUnsecuredLines  150000 non-null  float64\n",
      " 2   age                                   150000 non-null  int64  \n",
      " 3   NumberOfTime30-59DaysPastDueNotWorse  150000 non-null  int64  \n",
      " 4   DebtRatio                             150000 non-null  float64\n",
      " 5   MonthlyIncome                         120269 non-null  float64\n",
      " 6   NumberOfOpenCreditLinesAndLoans       150000 non-null  int64  \n",
      " 7   NumberOfTimes90DaysLate               150000 non-null  int64  \n",
      " 8   NumberRealEstateLoansOrLines          150000 non-null  int64  \n",
      " 9   NumberOfTime60-89DaysPastDueNotWorse  150000 non-null  int64  \n",
      " 10  NumberOfDependents                    146076 non-null  float64\n",
      "dtypes: float64(4), int64(7)\n",
      "memory usage: 12.6 MB\n"
     ]
    }
   ],
   "source": [
    "# apparently, the first column is redundant.\n",
    "train_data = train_data.iloc[:,1:]\n",
    "# examine the data briefly\n",
    "train_data.info()"
   ]
  },
  {
   "cell_type": "code",
   "execution_count": 4,
   "metadata": {},
   "outputs": [
    {
     "data": {
      "text/plain": [
       "(Unnamed: 0                                  0\n",
       " SeriousDlqin2yrs                            0\n",
       " RevolvingUtilizationOfUnsecuredLines        0\n",
       " age                                         0\n",
       " NumberOfTime30-59DaysPastDueNotWorse        0\n",
       " DebtRatio                                   0\n",
       " MonthlyIncome                           29731\n",
       " NumberOfOpenCreditLinesAndLoans             0\n",
       " NumberOfTimes90DaysLate                     0\n",
       " NumberRealEstateLoansOrLines                0\n",
       " NumberOfTime60-89DaysPastDueNotWorse        0\n",
       " NumberOfDependents                       3924\n",
       " dtype: int64,\n",
       " Unnamed: 0                              0.000000\n",
       " SeriousDlqin2yrs                        0.000000\n",
       " RevolvingUtilizationOfUnsecuredLines    0.000000\n",
       " age                                     0.000000\n",
       " NumberOfTime30-59DaysPastDueNotWorse    0.000000\n",
       " DebtRatio                               0.000000\n",
       " MonthlyIncome                           0.198207\n",
       " NumberOfOpenCreditLinesAndLoans         0.000000\n",
       " NumberOfTimes90DaysLate                 0.000000\n",
       " NumberRealEstateLoansOrLines            0.000000\n",
       " NumberOfTime60-89DaysPastDueNotWorse    0.000000\n",
       " NumberOfDependents                      0.026160\n",
       " dtype: float64)"
      ]
     },
     "execution_count": 4,
     "metadata": {},
     "output_type": "execute_result"
    }
   ],
   "source": [
    "# check the missing values and missing rate respectively.\n",
    "train_data.isnull().sum(), train_data.isnull().sum()/train_data.shape[0]"
   ]
  },
  {
   "cell_type": "code",
   "execution_count": 6,
   "metadata": {},
   "outputs": [],
   "source": [
    "# This dataset has 150,000 entries. \n",
    "# The variable 'MonthlyIncome' has 29,731 missing values and 'NumberOfDependents' has 3,924."
   ]
  },
  {
   "cell_type": "markdown",
   "metadata": {},
   "source": [
    "### Exploratory Data Analysis\n",
    "use histogram and box plot to look at the distribution of each variable."
   ]
  },
  {
   "cell_type": "code",
   "execution_count": 5,
   "metadata": {},
   "outputs": [
    {
     "data": {
      "text/html": [
       "<div>\n",
       "<style scoped>\n",
       "    .dataframe tbody tr th:only-of-type {\n",
       "        vertical-align: middle;\n",
       "    }\n",
       "\n",
       "    .dataframe tbody tr th {\n",
       "        vertical-align: top;\n",
       "    }\n",
       "\n",
       "    .dataframe thead th {\n",
       "        text-align: right;\n",
       "    }\n",
       "</style>\n",
       "<table border=\"1\" class=\"dataframe\">\n",
       "  <thead>\n",
       "    <tr style=\"text-align: right;\">\n",
       "      <th></th>\n",
       "      <th>SeriousDlqin2yrs</th>\n",
       "      <th>RevolvingUtilizationOfUnsecuredLines</th>\n",
       "      <th>age</th>\n",
       "      <th>NumberOfTime30-59DaysPastDueNotWorse</th>\n",
       "      <th>DebtRatio</th>\n",
       "      <th>MonthlyIncome</th>\n",
       "      <th>NumberOfOpenCreditLinesAndLoans</th>\n",
       "      <th>NumberOfTimes90DaysLate</th>\n",
       "      <th>NumberRealEstateLoansOrLines</th>\n",
       "      <th>NumberOfTime60-89DaysPastDueNotWorse</th>\n",
       "      <th>NumberOfDependents</th>\n",
       "    </tr>\n",
       "  </thead>\n",
       "  <tbody>\n",
       "    <tr>\n",
       "      <th>count</th>\n",
       "      <td>150000.000000</td>\n",
       "      <td>150000.000000</td>\n",
       "      <td>150000.000000</td>\n",
       "      <td>150000.000000</td>\n",
       "      <td>150000.000000</td>\n",
       "      <td>1.202690e+05</td>\n",
       "      <td>150000.000000</td>\n",
       "      <td>150000.000000</td>\n",
       "      <td>150000.000000</td>\n",
       "      <td>150000.000000</td>\n",
       "      <td>146076.000000</td>\n",
       "    </tr>\n",
       "    <tr>\n",
       "      <th>mean</th>\n",
       "      <td>0.066840</td>\n",
       "      <td>6.048438</td>\n",
       "      <td>52.295207</td>\n",
       "      <td>0.421033</td>\n",
       "      <td>353.005076</td>\n",
       "      <td>6.670221e+03</td>\n",
       "      <td>8.452760</td>\n",
       "      <td>0.265973</td>\n",
       "      <td>1.018240</td>\n",
       "      <td>0.240387</td>\n",
       "      <td>0.757222</td>\n",
       "    </tr>\n",
       "    <tr>\n",
       "      <th>std</th>\n",
       "      <td>0.249746</td>\n",
       "      <td>249.755371</td>\n",
       "      <td>14.771866</td>\n",
       "      <td>4.192781</td>\n",
       "      <td>2037.818523</td>\n",
       "      <td>1.438467e+04</td>\n",
       "      <td>5.145951</td>\n",
       "      <td>4.169304</td>\n",
       "      <td>1.129771</td>\n",
       "      <td>4.155179</td>\n",
       "      <td>1.115086</td>\n",
       "    </tr>\n",
       "    <tr>\n",
       "      <th>min</th>\n",
       "      <td>0.000000</td>\n",
       "      <td>0.000000</td>\n",
       "      <td>0.000000</td>\n",
       "      <td>0.000000</td>\n",
       "      <td>0.000000</td>\n",
       "      <td>0.000000e+00</td>\n",
       "      <td>0.000000</td>\n",
       "      <td>0.000000</td>\n",
       "      <td>0.000000</td>\n",
       "      <td>0.000000</td>\n",
       "      <td>0.000000</td>\n",
       "    </tr>\n",
       "    <tr>\n",
       "      <th>25%</th>\n",
       "      <td>0.000000</td>\n",
       "      <td>0.029867</td>\n",
       "      <td>41.000000</td>\n",
       "      <td>0.000000</td>\n",
       "      <td>0.175074</td>\n",
       "      <td>3.400000e+03</td>\n",
       "      <td>5.000000</td>\n",
       "      <td>0.000000</td>\n",
       "      <td>0.000000</td>\n",
       "      <td>0.000000</td>\n",
       "      <td>0.000000</td>\n",
       "    </tr>\n",
       "    <tr>\n",
       "      <th>50%</th>\n",
       "      <td>0.000000</td>\n",
       "      <td>0.154181</td>\n",
       "      <td>52.000000</td>\n",
       "      <td>0.000000</td>\n",
       "      <td>0.366508</td>\n",
       "      <td>5.400000e+03</td>\n",
       "      <td>8.000000</td>\n",
       "      <td>0.000000</td>\n",
       "      <td>1.000000</td>\n",
       "      <td>0.000000</td>\n",
       "      <td>0.000000</td>\n",
       "    </tr>\n",
       "    <tr>\n",
       "      <th>75%</th>\n",
       "      <td>0.000000</td>\n",
       "      <td>0.559046</td>\n",
       "      <td>63.000000</td>\n",
       "      <td>0.000000</td>\n",
       "      <td>0.868254</td>\n",
       "      <td>8.249000e+03</td>\n",
       "      <td>11.000000</td>\n",
       "      <td>0.000000</td>\n",
       "      <td>2.000000</td>\n",
       "      <td>0.000000</td>\n",
       "      <td>1.000000</td>\n",
       "    </tr>\n",
       "    <tr>\n",
       "      <th>max</th>\n",
       "      <td>1.000000</td>\n",
       "      <td>50708.000000</td>\n",
       "      <td>109.000000</td>\n",
       "      <td>98.000000</td>\n",
       "      <td>329664.000000</td>\n",
       "      <td>3.008750e+06</td>\n",
       "      <td>58.000000</td>\n",
       "      <td>98.000000</td>\n",
       "      <td>54.000000</td>\n",
       "      <td>98.000000</td>\n",
       "      <td>20.000000</td>\n",
       "    </tr>\n",
       "  </tbody>\n",
       "</table>\n",
       "</div>"
      ],
      "text/plain": [
       "       SeriousDlqin2yrs  RevolvingUtilizationOfUnsecuredLines            age  \\\n",
       "count     150000.000000                         150000.000000  150000.000000   \n",
       "mean           0.066840                              6.048438      52.295207   \n",
       "std            0.249746                            249.755371      14.771866   \n",
       "min            0.000000                              0.000000       0.000000   \n",
       "25%            0.000000                              0.029867      41.000000   \n",
       "50%            0.000000                              0.154181      52.000000   \n",
       "75%            0.000000                              0.559046      63.000000   \n",
       "max            1.000000                          50708.000000     109.000000   \n",
       "\n",
       "       NumberOfTime30-59DaysPastDueNotWorse      DebtRatio  MonthlyIncome  \\\n",
       "count                         150000.000000  150000.000000   1.202690e+05   \n",
       "mean                               0.421033     353.005076   6.670221e+03   \n",
       "std                                4.192781    2037.818523   1.438467e+04   \n",
       "min                                0.000000       0.000000   0.000000e+00   \n",
       "25%                                0.000000       0.175074   3.400000e+03   \n",
       "50%                                0.000000       0.366508   5.400000e+03   \n",
       "75%                                0.000000       0.868254   8.249000e+03   \n",
       "max                               98.000000  329664.000000   3.008750e+06   \n",
       "\n",
       "       NumberOfOpenCreditLinesAndLoans  NumberOfTimes90DaysLate  \\\n",
       "count                    150000.000000            150000.000000   \n",
       "mean                          8.452760                 0.265973   \n",
       "std                           5.145951                 4.169304   \n",
       "min                           0.000000                 0.000000   \n",
       "25%                           5.000000                 0.000000   \n",
       "50%                           8.000000                 0.000000   \n",
       "75%                          11.000000                 0.000000   \n",
       "max                          58.000000                98.000000   \n",
       "\n",
       "       NumberRealEstateLoansOrLines  NumberOfTime60-89DaysPastDueNotWorse  \\\n",
       "count                 150000.000000                         150000.000000   \n",
       "mean                       1.018240                              0.240387   \n",
       "std                        1.129771                              4.155179   \n",
       "min                        0.000000                              0.000000   \n",
       "25%                        0.000000                              0.000000   \n",
       "50%                        1.000000                              0.000000   \n",
       "75%                        2.000000                              0.000000   \n",
       "max                       54.000000                             98.000000   \n",
       "\n",
       "       NumberOfDependents  \n",
       "count       146076.000000  \n",
       "mean             0.757222  \n",
       "std              1.115086  \n",
       "min              0.000000  \n",
       "25%              0.000000  \n",
       "50%              0.000000  \n",
       "75%              1.000000  \n",
       "max             20.000000  "
      ]
     },
     "execution_count": 5,
     "metadata": {},
     "output_type": "execute_result"
    }
   ],
   "source": [
    "train_data.describe()"
   ]
  },
  {
   "cell_type": "code",
   "execution_count": 6,
   "metadata": {
    "scrolled": true
   },
   "outputs": [
    {
     "data": {
      "image/png": "[encoded data removed]",
      "text/plain": [
       "<Figure size 576x216 with 1 Axes>"
      ]
     },
     "metadata": {
      "needs_background": "light"
     },
     "output_type": "display_data"
    }
   ],
   "source": [
    "# response variable \n",
    "plt.figure(figsize=(8,3))\n",
    "ax = train_data['SeriousDlqin2yrs'].value_counts().plot(kind='bar')\n",
    "plt.text(0,train_data['SeriousDlqin2yrs'].value_counts()[0]+1000,train_data['SeriousDlqin2yrs'].value_counts()[0],\n",
    "        ha='center',fontsize=16)\n",
    "plt.text(1,train_data['SeriousDlqin2yrs'].value_counts()[1]+1000,train_data['SeriousDlqin2yrs'].value_counts()[1],\n",
    "        ha='center',fontsize=16)\n",
    "class_0 = train_data['SeriousDlqin2yrs'].value_counts()[0]\n",
    "class_1 = train_data['SeriousDlqin2yrs'].value_counts()[1]\n",
    "plt.title(\"delinquency rate: {}\".format(class_1/(class_0+class_1)),fontsize=20,loc='right')\n",
    "plt.show()"
   ]
  },
  {
   "cell_type": "code",
   "execution_count": 7,
   "metadata": {},
   "outputs": [],
   "source": [
    "# use interquantile range to detect outliers\n",
    "# to be honest, it is no need to pack it into a function because it only functions upon 'age' variable\n",
    "# I could have clean 'age' variable step by step,\n",
    "# but I thought why not pack it and by any chance, it could apply into other variables\n",
    "def IQR(df,columns=None):\n",
    "    outliers = dict()\n",
    "    if columns == None:\n",
    "        for i in df.columns:\n",
    "            q25 = df[i].quantile(0.25)\n",
    "            q75 = df[i].quantile(0.75)\n",
    "            IQR = q75 - q25\n",
    "            upper = q75 + 1.5*IQR\n",
    "            lower = q25 - 1.5*IQR\n",
    "            outliers[i] = [df[i].min(),lower,upper,df[i].max(),(df[i]<lower).mean(),(df[i]>upper).mean()]\n",
    "    else:\n",
    "        for i in columns:\n",
    "            q25 = df[i].quantile(0.25)\n",
    "            q75 = df[i].quantile(0.75)\n",
    "            IQR = q75 - q25\n",
    "            upper = q75 + 1.5*IQR\n",
    "            lower = q25 - 1.5*IQR\n",
    "            outliers[i] = [df[i].min(),lower,upper,df[i].max(),(df[i]<lower).mean(),(df[i]>upper).mean()]\n",
    "    \n",
    "    outlier_table = pd.DataFrame.from_dict(outliers,orient='index',\n",
    "                       columns=['min','lower','upper','max','lowerRatio','upperRatio'])\n",
    "    outlier_table['outlierRatio'] = outlier_table['lowerRatio'] + outlier_table['upperRatio']\n",
    "    \n",
    "    return outlier_table"
   ]
  },
  {
   "cell_type": "code",
   "execution_count": 8,
   "metadata": {},
   "outputs": [
    {
     "data": {
      "text/html": [
       "<div>\n",
       "<style scoped>\n",
       "    .dataframe tbody tr th:only-of-type {\n",
       "        vertical-align: middle;\n",
       "    }\n",
       "\n",
       "    .dataframe tbody tr th {\n",
       "        vertical-align: top;\n",
       "    }\n",
       "\n",
       "    .dataframe thead th {\n",
       "        text-align: right;\n",
       "    }\n",
       "</style>\n",
       "<table border=\"1\" class=\"dataframe\">\n",
       "  <thead>\n",
       "    <tr style=\"text-align: right;\">\n",
       "      <th></th>\n",
       "      <th>min</th>\n",
       "      <th>lower</th>\n",
       "      <th>upper</th>\n",
       "      <th>max</th>\n",
       "      <th>lowerRatio</th>\n",
       "      <th>upperRatio</th>\n",
       "      <th>outlierRatio</th>\n",
       "    </tr>\n",
       "  </thead>\n",
       "  <tbody>\n",
       "    <tr>\n",
       "      <th>SeriousDlqin2yrs</th>\n",
       "      <td>0.0</td>\n",
       "      <td>0.000000</td>\n",
       "      <td>0.000000</td>\n",
       "      <td>1.0</td>\n",
       "      <td>0.000000</td>\n",
       "      <td>0.066840</td>\n",
       "      <td>0.066840</td>\n",
       "    </tr>\n",
       "    <tr>\n",
       "      <th>RevolvingUtilizationOfUnsecuredLines</th>\n",
       "      <td>0.0</td>\n",
       "      <td>-0.763901</td>\n",
       "      <td>1.352814</td>\n",
       "      <td>50708.0</td>\n",
       "      <td>0.000000</td>\n",
       "      <td>0.005087</td>\n",
       "      <td>0.005087</td>\n",
       "    </tr>\n",
       "    <tr>\n",
       "      <th>age</th>\n",
       "      <td>0.0</td>\n",
       "      <td>8.000000</td>\n",
       "      <td>96.000000</td>\n",
       "      <td>109.0</td>\n",
       "      <td>0.000007</td>\n",
       "      <td>0.000300</td>\n",
       "      <td>0.000307</td>\n",
       "    </tr>\n",
       "    <tr>\n",
       "      <th>NumberOfTime30-59DaysPastDueNotWorse</th>\n",
       "      <td>0.0</td>\n",
       "      <td>0.000000</td>\n",
       "      <td>0.000000</td>\n",
       "      <td>98.0</td>\n",
       "      <td>0.000000</td>\n",
       "      <td>0.159880</td>\n",
       "      <td>0.159880</td>\n",
       "    </tr>\n",
       "    <tr>\n",
       "      <th>DebtRatio</th>\n",
       "      <td>0.0</td>\n",
       "      <td>-0.864696</td>\n",
       "      <td>1.908024</td>\n",
       "      <td>329664.0</td>\n",
       "      <td>0.000000</td>\n",
       "      <td>0.208740</td>\n",
       "      <td>0.208740</td>\n",
       "    </tr>\n",
       "    <tr>\n",
       "      <th>MonthlyIncome</th>\n",
       "      <td>0.0</td>\n",
       "      <td>-3873.500000</td>\n",
       "      <td>15522.500000</td>\n",
       "      <td>3008750.0</td>\n",
       "      <td>0.000000</td>\n",
       "      <td>0.032527</td>\n",
       "      <td>0.032527</td>\n",
       "    </tr>\n",
       "    <tr>\n",
       "      <th>NumberOfOpenCreditLinesAndLoans</th>\n",
       "      <td>0.0</td>\n",
       "      <td>-4.000000</td>\n",
       "      <td>20.000000</td>\n",
       "      <td>58.0</td>\n",
       "      <td>0.000000</td>\n",
       "      <td>0.026533</td>\n",
       "      <td>0.026533</td>\n",
       "    </tr>\n",
       "    <tr>\n",
       "      <th>NumberOfTimes90DaysLate</th>\n",
       "      <td>0.0</td>\n",
       "      <td>0.000000</td>\n",
       "      <td>0.000000</td>\n",
       "      <td>98.0</td>\n",
       "      <td>0.000000</td>\n",
       "      <td>0.055587</td>\n",
       "      <td>0.055587</td>\n",
       "    </tr>\n",
       "    <tr>\n",
       "      <th>NumberRealEstateLoansOrLines</th>\n",
       "      <td>0.0</td>\n",
       "      <td>-3.000000</td>\n",
       "      <td>5.000000</td>\n",
       "      <td>54.0</td>\n",
       "      <td>0.000000</td>\n",
       "      <td>0.005287</td>\n",
       "      <td>0.005287</td>\n",
       "    </tr>\n",
       "    <tr>\n",
       "      <th>NumberOfTime60-89DaysPastDueNotWorse</th>\n",
       "      <td>0.0</td>\n",
       "      <td>0.000000</td>\n",
       "      <td>0.000000</td>\n",
       "      <td>98.0</td>\n",
       "      <td>0.000000</td>\n",
       "      <td>0.050693</td>\n",
       "      <td>0.050693</td>\n",
       "    </tr>\n",
       "    <tr>\n",
       "      <th>NumberOfDependents</th>\n",
       "      <td>0.0</td>\n",
       "      <td>-1.500000</td>\n",
       "      <td>2.500000</td>\n",
       "      <td>20.0</td>\n",
       "      <td>0.000000</td>\n",
       "      <td>0.088907</td>\n",
       "      <td>0.088907</td>\n",
       "    </tr>\n",
       "  </tbody>\n",
       "</table>\n",
       "</div>"
      ],
      "text/plain": [
       "                                      min        lower         upper  \\\n",
       "SeriousDlqin2yrs                      0.0     0.000000      0.000000   \n",
       "RevolvingUtilizationOfUnsecuredLines  0.0    -0.763901      1.352814   \n",
       "age                                   0.0     8.000000     96.000000   \n",
       "NumberOfTime30-59DaysPastDueNotWorse  0.0     0.000000      0.000000   \n",
       "DebtRatio                             0.0    -0.864696      1.908024   \n",
       "MonthlyIncome                         0.0 -3873.500000  15522.500000   \n",
       "NumberOfOpenCreditLinesAndLoans       0.0    -4.000000     20.000000   \n",
       "NumberOfTimes90DaysLate               0.0     0.000000      0.000000   \n",
       "NumberRealEstateLoansOrLines          0.0    -3.000000      5.000000   \n",
       "NumberOfTime60-89DaysPastDueNotWorse  0.0     0.000000      0.000000   \n",
       "NumberOfDependents                    0.0    -1.500000      2.500000   \n",
       "\n",
       "                                            max  lowerRatio  upperRatio  \\\n",
       "SeriousDlqin2yrs                            1.0    0.000000    0.066840   \n",
       "RevolvingUtilizationOfUnsecuredLines    50708.0    0.000000    0.005087   \n",
       "age                                       109.0    0.000007    0.000300   \n",
       "NumberOfTime30-59DaysPastDueNotWorse       98.0    0.000000    0.159880   \n",
       "DebtRatio                              329664.0    0.000000    0.208740   \n",
       "MonthlyIncome                         3008750.0    0.000000    0.032527   \n",
       "NumberOfOpenCreditLinesAndLoans            58.0    0.000000    0.026533   \n",
       "NumberOfTimes90DaysLate                    98.0    0.000000    0.055587   \n",
       "NumberRealEstateLoansOrLines               54.0    0.000000    0.005287   \n",
       "NumberOfTime60-89DaysPastDueNotWorse       98.0    0.000000    0.050693   \n",
       "NumberOfDependents                         20.0    0.000000    0.088907   \n",
       "\n",
       "                                      outlierRatio  \n",
       "SeriousDlqin2yrs                          0.066840  \n",
       "RevolvingUtilizationOfUnsecuredLines      0.005087  \n",
       "age                                       0.000307  \n",
       "NumberOfTime30-59DaysPastDueNotWorse      0.159880  \n",
       "DebtRatio                                 0.208740  \n",
       "MonthlyIncome                             0.032527  \n",
       "NumberOfOpenCreditLinesAndLoans           0.026533  \n",
       "NumberOfTimes90DaysLate                   0.055587  \n",
       "NumberRealEstateLoansOrLines              0.005287  \n",
       "NumberOfTime60-89DaysPastDueNotWorse      0.050693  \n",
       "NumberOfDependents                        0.088907  "
      ]
     },
     "execution_count": 8,
     "metadata": {},
     "output_type": "execute_result"
    }
   ],
   "source": [
    "IQR(train_data)"
   ]
  },
  {
   "cell_type": "code",
   "execution_count": 9,
   "metadata": {},
   "outputs": [
    {
     "data": {
      "image/png": "[encoded data removed]",
      "text/plain": [
       "<Figure size 576x216 with 1 Axes>"
      ]
     },
     "metadata": {
      "needs_background": "light"
     },
     "output_type": "display_data"
    }
   ],
   "source": [
    "# age \n",
    "plt.figure(figsize=(8,3))\n",
    "sns.boxplot(data = train_data,x='age')\n",
    "# replace outliers in 'age' with 'age' median\n",
    "train_data.loc[(train_data['age']<18) & (train_data['age']>96),'age'] = train_data['age'].median()"
   ]
  },
  {
   "cell_type": "code",
   "execution_count": 10,
   "metadata": {},
   "outputs": [
    {
     "data": {
      "image/png": "[encoded data removed]",
      "text/plain": [
       "<Figure size 864x864 with 7 Axes>"
      ]
     },
     "metadata": {
      "needs_background": "light"
     },
     "output_type": "display_data"
    }
   ],
   "source": [
    "cols =[\"NumberOfTime30-59DaysPastDueNotWorse\",\"NumberOfTime60-89DaysPastDueNotWorse\",\"NumberOfTimes90DaysLate\", \"DebtRatio\",\"NumberOfOpenCreditLinesAndLoans\",\"NumberRealEstateLoansOrLines\", \"RevolvingUtilizationOfUnsecuredLines\"]\n",
    "fig,axes = plt.subplots(len(cols),1,figsize=(12,12))\n",
    "i = 0 \n",
    "for c in cols:\n",
    "    ax = sns.boxplot(data=train_data,x=c,ax = axes[i])\n",
    "    ax.set_ylabel(c,rotation=0,labelpad=150)\n",
    "    ax.set_xlabel('Number of Times')\n",
    "    i += 1\n",
    "plt.show()"
   ]
  },
  {
   "cell_type": "code",
   "execution_count": 11,
   "metadata": {},
   "outputs": [
    {
     "name": "stderr",
     "output_type": "stream",
     "text": [
      "/Library/anaconda3/lib/python3.8/site-packages/pandas/core/series.py:726: RuntimeWarning: divide by zero encountered in log\n",
      "  result = getattr(ufunc, method)(*inputs, **kwargs)\n",
      "/Library/anaconda3/lib/python3.8/site-packages/pandas/core/series.py:726: RuntimeWarning: divide by zero encountered in log\n",
      "  result = getattr(ufunc, method)(*inputs, **kwargs)\n"
     ]
    },
    {
     "data": {
      "image/png": "[encoded data removed]",
      "text/plain": [
       "<Figure size 1080x288 with 2 Axes>"
      ]
     },
     "metadata": {
      "needs_background": "light"
     },
     "output_type": "display_data"
    }
   ],
   "source": [
    "# debtratio\n",
    "debtRatio_q = train_data['DebtRatio'].quantile(0.86)\n",
    "# why chose 0.86%?\n",
    "\n",
    "colormap = {0:'blue',1:'red'}\n",
    "fig,(ax1,ax2) = plt.subplots(1,2,figsize=(15,4))\n",
    "for delinquency, color in colormap.items():\n",
    "    tmp = train_data[(train_data['DebtRatio']>debtRatio_q) & (train_data['SeriousDlqin2yrs']==delinquency)][\n",
    "        ['DebtRatio','MonthlyIncome']]\n",
    "    ax1.scatter(tmp['DebtRatio'],tmp['MonthlyIncome'],c=color,alpha=0.8, \n",
    "                label = str(delinquency) + ':{}'.format(tmp.shape[0]))\n",
    "ax1.legend()\n",
    "ax1.set_title('Debt Ratio 86% Quantile against Monthly Income',fontsize=10)\n",
    "ax1.set_xlabel('DebtRatio')\n",
    "ax1.set_ylabel('Monthly Income')\n",
    "\n",
    "for delinquency,color in colormap.items():\n",
    "    tmp = train_data[(train_data['SeriousDlqin2yrs']==delinquency)][['DebtRatio','MonthlyIncome']]\n",
    "    ax2.scatter(np.log(tmp['DebtRatio']), np.log(tmp['MonthlyIncome']), c=color, alpha=0.8, \n",
    "                label= str(delinquency) + \":{}\".format(tmp.shape[0]))\n",
    "ax2.legend()\n",
    "ax2.set_title(\"Log of Debt Ratio against log of Monthly Income\",fontsize=10)\n",
    "ax2.set_xlabel(\"log(DebtRatio)\")\n",
    "ax2.set_ylabel(\"log(Monthly Income)\")\n",
    "plt.show()"
   ]
  },
  {
   "cell_type": "code",
   "execution_count": 12,
   "metadata": {},
   "outputs": [
    {
     "data": {
      "text/html": [
       "<div>\n",
       "<style scoped>\n",
       "    .dataframe tbody tr th:only-of-type {\n",
       "        vertical-align: middle;\n",
       "    }\n",
       "\n",
       "    .dataframe tbody tr th {\n",
       "        vertical-align: top;\n",
       "    }\n",
       "\n",
       "    .dataframe thead th {\n",
       "        text-align: right;\n",
       "    }\n",
       "</style>\n",
       "<table border=\"1\" class=\"dataframe\">\n",
       "  <thead>\n",
       "    <tr style=\"text-align: right;\">\n",
       "      <th></th>\n",
       "      <th>SeriousDlqin2yrs</th>\n",
       "      <th>RevolvingUtilizationOfUnsecuredLines</th>\n",
       "      <th>age</th>\n",
       "      <th>NumberOfTime30-59DaysPastDueNotWorse</th>\n",
       "      <th>DebtRatio</th>\n",
       "      <th>MonthlyIncome</th>\n",
       "      <th>NumberOfOpenCreditLinesAndLoans</th>\n",
       "      <th>NumberOfTimes90DaysLate</th>\n",
       "      <th>NumberRealEstateLoansOrLines</th>\n",
       "      <th>NumberOfTime60-89DaysPastDueNotWorse</th>\n",
       "      <th>NumberOfDependents</th>\n",
       "    </tr>\n",
       "  </thead>\n",
       "  <tbody>\n",
       "    <tr>\n",
       "      <th>count</th>\n",
       "      <td>149395.000000</td>\n",
       "      <td>149395.000000</td>\n",
       "      <td>149395.000000</td>\n",
       "      <td>149395.000000</td>\n",
       "      <td>149395.000000</td>\n",
       "      <td>1.196640e+05</td>\n",
       "      <td>149395.000000</td>\n",
       "      <td>149395.000000</td>\n",
       "      <td>149395.000000</td>\n",
       "      <td>149395.000000</td>\n",
       "      <td>145471.000000</td>\n",
       "    </tr>\n",
       "    <tr>\n",
       "      <th>mean</th>\n",
       "      <td>0.066997</td>\n",
       "      <td>6.071696</td>\n",
       "      <td>52.321657</td>\n",
       "      <td>0.420844</td>\n",
       "      <td>-0.193383</td>\n",
       "      <td>6.703940e+03</td>\n",
       "      <td>8.456742</td>\n",
       "      <td>0.265618</td>\n",
       "      <td>1.019070</td>\n",
       "      <td>0.239834</td>\n",
       "      <td>0.756467</td>\n",
       "    </tr>\n",
       "    <tr>\n",
       "      <th>std</th>\n",
       "      <td>0.250017</td>\n",
       "      <td>250.260307</td>\n",
       "      <td>14.767639</td>\n",
       "      <td>4.185920</td>\n",
       "      <td>3.882223</td>\n",
       "      <td>1.441315e+04</td>\n",
       "      <td>5.146399</td>\n",
       "      <td>4.162361</td>\n",
       "      <td>1.130484</td>\n",
       "      <td>4.148131</td>\n",
       "      <td>1.114591</td>\n",
       "    </tr>\n",
       "    <tr>\n",
       "      <th>min</th>\n",
       "      <td>0.000000</td>\n",
       "      <td>0.000000</td>\n",
       "      <td>0.000000</td>\n",
       "      <td>0.000000</td>\n",
       "      <td>-10.557414</td>\n",
       "      <td>0.000000e+00</td>\n",
       "      <td>0.000000</td>\n",
       "      <td>0.000000</td>\n",
       "      <td>0.000000</td>\n",
       "      <td>0.000000</td>\n",
       "      <td>0.000000</td>\n",
       "    </tr>\n",
       "    <tr>\n",
       "      <th>25%</th>\n",
       "      <td>0.000000</td>\n",
       "      <td>0.029854</td>\n",
       "      <td>41.000000</td>\n",
       "      <td>0.000000</td>\n",
       "      <td>-1.746317</td>\n",
       "      <td>3.425000e+03</td>\n",
       "      <td>5.000000</td>\n",
       "      <td>0.000000</td>\n",
       "      <td>0.000000</td>\n",
       "      <td>0.000000</td>\n",
       "      <td>0.000000</td>\n",
       "    </tr>\n",
       "    <tr>\n",
       "      <th>50%</th>\n",
       "      <td>0.000000</td>\n",
       "      <td>0.154310</td>\n",
       "      <td>52.000000</td>\n",
       "      <td>0.000000</td>\n",
       "      <td>-1.007962</td>\n",
       "      <td>5.416000e+03</td>\n",
       "      <td>8.000000</td>\n",
       "      <td>0.000000</td>\n",
       "      <td>1.000000</td>\n",
       "      <td>0.000000</td>\n",
       "      <td>0.000000</td>\n",
       "    </tr>\n",
       "    <tr>\n",
       "      <th>75%</th>\n",
       "      <td>0.000000</td>\n",
       "      <td>0.559158</td>\n",
       "      <td>63.000000</td>\n",
       "      <td>0.000000</td>\n",
       "      <td>-0.163184</td>\n",
       "      <td>8.272000e+03</td>\n",
       "      <td>11.000000</td>\n",
       "      <td>0.000000</td>\n",
       "      <td>2.000000</td>\n",
       "      <td>0.000000</td>\n",
       "      <td>1.000000</td>\n",
       "    </tr>\n",
       "    <tr>\n",
       "      <th>max</th>\n",
       "      <td>1.000000</td>\n",
       "      <td>50708.000000</td>\n",
       "      <td>109.000000</td>\n",
       "      <td>98.000000</td>\n",
       "      <td>12.705829</td>\n",
       "      <td>3.008750e+06</td>\n",
       "      <td>58.000000</td>\n",
       "      <td>98.000000</td>\n",
       "      <td>54.000000</td>\n",
       "      <td>98.000000</td>\n",
       "      <td>20.000000</td>\n",
       "    </tr>\n",
       "  </tbody>\n",
       "</table>\n",
       "</div>"
      ],
      "text/plain": [
       "       SeriousDlqin2yrs  RevolvingUtilizationOfUnsecuredLines            age  \\\n",
       "count     149395.000000                         149395.000000  149395.000000   \n",
       "mean           0.066997                              6.071696      52.321657   \n",
       "std            0.250017                            250.260307      14.767639   \n",
       "min            0.000000                              0.000000       0.000000   \n",
       "25%            0.000000                              0.029854      41.000000   \n",
       "50%            0.000000                              0.154310      52.000000   \n",
       "75%            0.000000                              0.559158      63.000000   \n",
       "max            1.000000                          50708.000000     109.000000   \n",
       "\n",
       "       NumberOfTime30-59DaysPastDueNotWorse      DebtRatio  MonthlyIncome  \\\n",
       "count                         149395.000000  149395.000000   1.196640e+05   \n",
       "mean                               0.420844      -0.193383   6.703940e+03   \n",
       "std                                4.185920       3.882223   1.441315e+04   \n",
       "min                                0.000000     -10.557414   0.000000e+00   \n",
       "25%                                0.000000      -1.746317   3.425000e+03   \n",
       "50%                                0.000000      -1.007962   5.416000e+03   \n",
       "75%                                0.000000      -0.163184   8.272000e+03   \n",
       "max                               98.000000      12.705829   3.008750e+06   \n",
       "\n",
       "       NumberOfOpenCreditLinesAndLoans  NumberOfTimes90DaysLate  \\\n",
       "count                    149395.000000            149395.000000   \n",
       "mean                          8.456742                 0.265618   \n",
       "std                           5.146399                 4.162361   \n",
       "min                           0.000000                 0.000000   \n",
       "25%                           5.000000                 0.000000   \n",
       "50%                           8.000000                 0.000000   \n",
       "75%                          11.000000                 0.000000   \n",
       "max                          58.000000                98.000000   \n",
       "\n",
       "       NumberRealEstateLoansOrLines  NumberOfTime60-89DaysPastDueNotWorse  \\\n",
       "count                 149395.000000                         149395.000000   \n",
       "mean                       1.019070                              0.239834   \n",
       "std                        1.130484                              4.148131   \n",
       "min                        0.000000                              0.000000   \n",
       "25%                        0.000000                              0.000000   \n",
       "50%                        1.000000                              0.000000   \n",
       "75%                        2.000000                              0.000000   \n",
       "max                       54.000000                             98.000000   \n",
       "\n",
       "       NumberOfDependents  \n",
       "count       145471.000000  \n",
       "mean             0.756467  \n",
       "std              1.114591  \n",
       "min              0.000000  \n",
       "25%              0.000000  \n",
       "50%              0.000000  \n",
       "75%              1.000000  \n",
       "max             20.000000  "
      ]
     },
     "execution_count": 12,
     "metadata": {},
     "output_type": "execute_result"
    }
   ],
   "source": [
    "# Those people whose debt ratio was higher than 86% of the samples had monthly income at either 1 or 0. \n",
    "# I suspect that when monthly income was equal to 1 and debt ratio was high, this record might be wrong, \n",
    "# so I would rather delete it. \n",
    "# For debt ratio variable, we use log function on it.\n",
    "train_data[\"DebtRatio\"] = np.log(train_data[\"DebtRatio\"])\n",
    "train_data = train_data[train_data[\"MonthlyIncome\"] != 1]\n",
    "train_data[\"DebtRatio\"].replace([np.inf, -np.inf], -10, inplace=True)\n",
    "train_data.describe()"
   ]
  },
  {
   "cell_type": "code",
   "execution_count": 13,
   "metadata": {},
   "outputs": [
    {
     "data": {
      "text/plain": [
       "['Total balance on credit cards and personal lines of credit except real estate and no installment debt like car loans divided by the sum of credit limits']"
      ]
     },
     "execution_count": 13,
     "metadata": {},
     "output_type": "execute_result"
    }
   ],
   "source": [
    "# I don't understand what is 'RevolvingUtilizationOfUnsecuredLines', so I refer to the description, \n",
    "# although I still don't know what it is afterwards.\n",
    "data_description[data_description['Variable Name'] \n",
    "                 == 'RevolvingUtilizationOfUnsecuredLines']['Description'].to_list()"
   ]
  },
  {
   "cell_type": "code",
   "execution_count": 14,
   "metadata": {},
   "outputs": [
    {
     "data": {
      "image/png": "[encoded data removed]",
      "text/plain": [
       "<Figure size 1080x288 with 1 Axes>"
      ]
     },
     "metadata": {
      "needs_background": "light"
     },
     "output_type": "display_data"
    }
   ],
   "source": [
    "x_list = []\n",
    "y_list = []\n",
    "for u in range(int(train_data['RevolvingUtilizationOfUnsecuredLines'].max())):\n",
    "    default_rate = train_data[train_data['RevolvingUtilizationOfUnsecuredLines']>u]['SeriousDlqin2yrs'].mean()\n",
    "    x_list.append(u)\n",
    "    y_list.append(default_rate)\n",
    "fig,ax1= plt.subplots(figsize=(15,4))\n",
    "df = pd.DataFrame({'utilization':x_list,'default rate':y_list})\n",
    "df.plot('utilization','default rate',ax=ax1)\n",
    "ax1.set_ylabel('Default Rate')\n",
    "ax1.set_xlabel('Utilization Ratio')\n",
    "plt.show()"
   ]
  },
  {
   "cell_type": "markdown",
   "metadata": {},
   "source": [
    "### __Question__ \n",
    "__In the line above, I had no idea why it was selecting data by the condition of '>u', rather than '==u' or '<u'. I tried all three, but the latter two turned out pretty bad. To my understanding, with '==u', at every level of 'RevolvingUtilizationOfUnsecuredLines', the default rate is calculated, while with '<u', it might have a cumulative result. However, the graphs drawn weren't really good. So, if you know what does '>u' mean, please leave a comment and tell me.__"
   ]
  },
  {
   "cell_type": "code",
   "execution_count": 15,
   "metadata": {},
   "outputs": [
    {
     "name": "stdout",
     "output_type": "stream",
     "text": [
      "Remove Outliers at point Utilization =8328\n"
     ]
    },
    {
     "data": {
      "text/plain": [
       "Text(0.5, 0, 'Utilization Ratio')"
      ]
     },
     "execution_count": 15,
     "metadata": {},
     "output_type": "execute_result"
    },
    {
     "data": {
      "image/png": "[encoded data removed]",
      "text/plain": [
       "<Figure size 1080x288 with 1 Axes>"
      ]
     },
     "metadata": {
      "needs_background": "light"
     },
     "output_type": "display_data"
    }
   ],
   "source": [
    "# From the chart above, when utilization reaches certain level, the default rate suddenly drops to zero\n",
    "# so I might just plot the part before this point.\n",
    "# the first step is to find out the minimum point of utilization when default rate flats at zero.\n",
    "# the second step is to select the data less than this minimum level.\n",
    "utilization_outlier = df[df['default rate'] ==0]['utilization'].min()\n",
    "print(f'Remove Outliers at point Utilization ={utilization_outlier}')\n",
    "\n",
    "dftemp = df[df['utilization']<utilization_outlier]\n",
    "fig,ax2= plt.subplots(figsize=(15,4))\n",
    "dftemp.plot('utilization','default rate',ax=ax2)\n",
    "ax2.plot([3500 for i in range(dftemp.shape[0])], np.linspace(0,0.35,dftemp.shape[0]), 'r--')\n",
    "ax2.plot([6200 for i in range(dftemp.shape[0])], np.linspace(0,0.35,dftemp.shape[0]), 'r--')\n",
    "ax2.set_ylabel(\"Default Rate\")\n",
    "ax2.set_xlabel(\"Utilization Ratio\")"
   ]
  },
  {
   "cell_type": "code",
   "execution_count": 16,
   "metadata": {},
   "outputs": [
    {
     "name": "stderr",
     "output_type": "stream",
     "text": [
      "/Library/anaconda3/lib/python3.8/site-packages/pandas/core/indexing.py:1745: SettingWithCopyWarning: \n",
      "A value is trying to be set on a copy of a slice from a DataFrame.\n",
      "Try using .loc[row_indexer,col_indexer] = value instead\n",
      "\n",
      "See the caveats in the documentation: https://pandas.pydata.org/pandas-docs/stable/user_guide/indexing.html#returning-a-view-versus-a-copy\n",
      "  isetter(ilocs[0], value)\n"
     ]
    }
   ],
   "source": [
    "# we can tell from the chart that \n",
    "# when when utilization reaches certain level,the default rate suddenly drops to zero.\n",
    "# While between some intervals, the relationship between utilization ratio and default rate tends to be positive. \n",
    "# As a result, after deleting those utilization outliers, cut the remaining into three parts.\n",
    "removedUtilization = train_data[train_data['RevolvingUtilizationOfUnsecuredLines']<=utilization_outlier]\n",
    "removedUtilization.loc[:,'RevolvingUtilizationOfUnsecuredLines'] = pd.cut(removedUtilization['RevolvingUtilizationOfUnsecuredLines'],\n",
    "                                                                    [0,3500,6200,np.inf],labels=[0,1,2],include_lowest=True)"
   ]
  },
  {
   "cell_type": "markdown",
   "metadata": {},
   "source": [
    "### Deal with missing values"
   ]
  },
  {
   "cell_type": "code",
   "execution_count": 17,
   "metadata": {},
   "outputs": [
    {
     "data": {
      "text/plain": [
       "{'SeriousDlqin2yrs': 0,\n",
       " 'RevolvingUtilizationOfUnsecuredLines': 0,\n",
       " 'age': 0,\n",
       " 'NumberOfTime30-59DaysPastDueNotWorse': 0,\n",
       " 'DebtRatio': 0,\n",
       " 'MonthlyIncome': 29731,\n",
       " 'NumberOfOpenCreditLinesAndLoans': 0,\n",
       " 'NumberOfTimes90DaysLate': 0,\n",
       " 'NumberRealEstateLoansOrLines': 0,\n",
       " 'NumberOfTime60-89DaysPastDueNotWorse': 0,\n",
       " 'NumberOfDependents': 3924}"
      ]
     },
     "execution_count": 17,
     "metadata": {},
     "output_type": "execute_result"
    }
   ],
   "source": [
    "train_data.isnull().sum().to_dict()"
   ]
  },
  {
   "cell_type": "code",
   "execution_count": 18,
   "metadata": {},
   "outputs": [
    {
     "data": {
      "image/png": "[encoded data removed]",
      "text/plain": [
       "<Figure size 720x360 with 1 Axes>"
      ]
     },
     "metadata": {
      "needs_background": "light"
     },
     "output_type": "display_data"
    }
   ],
   "source": [
    "cols = train_data.columns\n",
    "nullcounts = []\n",
    "value_counts = []\n",
    "missing_value_dict = train_data.isnull().sum().to_dict()\n",
    "for col in cols:\n",
    "    nullcounts.append(missing_value_dict[col])\n",
    "    value_counts.append(train_data[col].shape[0] - missing_value_dict[col])\n",
    "\n",
    "fig, ax = plt.subplots(figsize=(10,5))\n",
    "ax.barh(cols,value_counts,label='not missing')\n",
    "ax.barh(cols,nullcounts,label='missing',left=value_counts)\n",
    "ax.set_xlabel('value_count')\n",
    "ax.set_ylabel('Labels')\n",
    "plt.show()"
   ]
  },
  {
   "cell_type": "code",
   "execution_count": 19,
   "metadata": {},
   "outputs": [],
   "source": [
    "# as missing values only exist in two feature, \n",
    "# I split the data by age and interpolate missing values with its median value of each category.\n",
    "imputeDf = train_data[['age','NumberOfDependents','MonthlyIncome']].copy()\n",
    "imputeDf['seniority'] = pd.cut(imputeDf['age'],[0,35,60,np.inf],\n",
    "                               labels=['junior','senior','mature'],include_lowest=True)"
   ]
  },
  {
   "cell_type": "code",
   "execution_count": 20,
   "metadata": {},
   "outputs": [
    {
     "data": {
      "text/plain": [
       "{'junior': 3520.0, 'senior': 6000.0, 'mature': 5250.0}"
      ]
     },
     "execution_count": 20,
     "metadata": {},
     "output_type": "execute_result"
    }
   ],
   "source": [
    "income_dict = imputeDf.groupby('seniority')['MonthlyIncome'].median().to_dict()\n",
    "income_dict"
   ]
  },
  {
   "cell_type": "code",
   "execution_count": 21,
   "metadata": {},
   "outputs": [],
   "source": [
    "# impute Monthly Income by median of seniority\n",
    "for label, median in income_dict.items():\n",
    "    imputeDf['MonthlyIncome'] = np.where((imputeDf['MonthlyIncome'].isnull()) & (imputeDf['seniority'] ==label),\n",
    "                                        int(median),imputeDf['MonthlyIncome'])\n",
    "train_data.loc[:,'MonthlyIncome'] = imputeDf['MonthlyIncome']\n",
    "# impute Number of Dependents with mode\n",
    "train_data['NumberOfDependents'].fillna(train_data['NumberOfDependents'].mode()[0],inplace=True)"
   ]
  },
  {
   "cell_type": "markdown",
   "metadata": {},
   "source": [
    "### correlation of each variable"
   ]
  },
  {
   "cell_type": "code",
   "execution_count": 22,
   "metadata": {},
   "outputs": [
    {
     "data": {
      "text/plain": [
       "<AxesSubplot:>"
      ]
     },
     "execution_count": 22,
     "metadata": {},
     "output_type": "execute_result"
    },
    {
     "data": {
      "image/png": "[encoded data removed]",
      "text/plain": [
       "<Figure size 720x720 with 2 Axes>"
      ]
     },
     "metadata": {
      "needs_background": "light"
     },
     "output_type": "display_data"
    }
   ],
   "source": [
    "corr = train_data.corr()\n",
    "plt.figure(figsize=(10,10))\n",
    "sns.heatmap(corr,annot=True,fmt='.2f')"
   ]
  },
  {
   "cell_type": "code",
   "execution_count": 25,
   "metadata": {},
   "outputs": [
    {
     "name": "stdout",
     "output_type": "stream",
     "text": [
      "NumberOfTime30-59DaysPastDueNotWorse:[ 0  1  2  3  4  5  6  7  8  9 10 11 12 13 96 98]\n",
      "NumberOfTimes90DaysLate:[ 0  1  2  3  4  5  6  7  8  9 10 11 12 13 14 15 17 96 98]\n",
      "NumberOfTime60-89DaysPastDueNotWorse:[ 0  1  2  3  4  5  6  7  8  9 11 96 98]\n"
     ]
    }
   ],
   "source": [
    "# Three variables - 'NumberOfTime30-59DaysPastDueNotWorse','NumberOfTimes90DaysLate', \n",
    "# and 'NumberOfTime60-89DaysPastDueNotWorse'- \n",
    "# are highly correlated, partly because of their common anamolies. \n",
    "# I imputed those anamolies with their reasonable maximum, \n",
    "# which is their maiximun when those anamolies are deleted.\n",
    "# first, get to know their reasonable maximum by unique() method\n",
    "day_due_list = ['NumberOfTime30-59DaysPastDueNotWorse','NumberOfTimes90DaysLate',\n",
    "                'NumberOfTime60-89DaysPastDueNotWorse']\n",
    "for i in day_due_list:\n",
    "    print(f'{i}:{ train_data[i].sort_values().unique()}')"
   ]
  },
  {
   "cell_type": "code",
   "execution_count": 26,
   "metadata": {},
   "outputs": [
    {
     "name": "stdout",
     "output_type": "stream",
     "text": [
      "98 times past due where 3 columns have same value: 262\n"
     ]
    }
   ],
   "source": [
    "cols = train_data.columns\n",
    "tmpdf = train_data[(train_data[\"NumberOfTime30-59DaysPastDueNotWorse\"] == 98) & (\n",
    "    train_data[\"NumberOfTime60-89DaysPastDueNotWorse\"] == train_data[\"NumberOfTime30-59DaysPastDueNotWorse\"]) & (\n",
    "    train_data[\"NumberOfTimes90DaysLate\"] == train_data[\"NumberOfTime60-89DaysPastDueNotWorse\"])][cols]\n",
    "print(\"98 times past due where 3 columns have same value: {}\".format(tmpdf.shape[0]))"
   ]
  },
  {
   "cell_type": "code",
   "execution_count": 27,
   "metadata": {},
   "outputs": [
    {
     "data": {
      "text/plain": [
       "{'NumberOfTime30-59DaysPastDueNotWorse': 13,\n",
       " 'NumberOfTimes90DaysLate': 17,\n",
       " 'NumberOfTime60-89DaysPastDueNotWorse': 11}"
      ]
     },
     "execution_count": 27,
     "metadata": {},
     "output_type": "execute_result"
    }
   ],
   "source": [
    "# Impute outliers with next max value\n",
    "maximum_list = [13,17,11]\n",
    "maximum_map = dict(zip(day_due_list,maximum_list))\n",
    "maximum_map"
   ]
  },
  {
   "cell_type": "code",
   "execution_count": 28,
   "metadata": {},
   "outputs": [],
   "source": [
    "for column, value in maximum_map.items():\n",
    "    train_data.loc[train_data[column]>=96,column] = maximum_map[column]"
   ]
  },
  {
   "cell_type": "code",
   "execution_count": 29,
   "metadata": {},
   "outputs": [],
   "source": [
    "# pack the cleaning process into a function\n",
    "def data_process(df,is_submission=False):\n",
    "    print('shape before:{}'.format(df.shape))\n",
    "    df.loc[(df['age']<18) & (df['age']>96),'age'] = df['age'].median()\n",
    "    \n",
    "    df['DebtRatio'] = np.log(df['DebtRatio'])\n",
    "    df[\"DebtRatio\"].replace([np.inf, -np.inf], -10, inplace=True)\n",
    "    \n",
    "    if not is_submission:\n",
    "        df = df[df[\"MonthlyIncome\"] != 1]\n",
    "    utilization_outlier = 8238\n",
    "    if not is_submission:\n",
    "        df = df[df['RevolvingUtilizationOfUnsecuredLines'] <= utilization_outlier]\n",
    "    \n",
    "    imputeDf = df[['age','NumberOfDependents','MonthlyIncome']].copy()\n",
    "    imputeDf['seniority'] = pd.cut(imputeDf['age'],[0,35,60,np.inf],\n",
    "                               labels=['junior','senior','mature'],include_lowest=True)\n",
    "    income_dict = imputeDf.groupby('seniority')['MonthlyIncome'].median().to_dict()\n",
    "    for label, median in income_dict.items():\n",
    "        imputeDf['MonthlyIncome'] = np.where((imputeDf['MonthlyIncome'].isnull()) & (imputeDf['seniority'] ==label),\n",
    "                                        int(median),imputeDf['MonthlyIncome'])\n",
    "    df['MonthlyIncome'] = imputeDf[\"MonthlyIncome\"]\n",
    "    df['NumberOfDependents'].fillna(0, inplace=True)\n",
    "    \n",
    "    maximum_map = dict(zip(['NumberOfTime30-59DaysPastDueNotWorse','NumberOfTimes90DaysLate',\n",
    "                            'NumberOfTime60-89DaysPastDueNotWorse'],\n",
    "                          [13,17,11]))\n",
    "    for column, value in maximum_map.items():\n",
    "        df.loc[df[column]>=96,column] = maximum_map[column]\n",
    "    print(\"Shape after: {}\".format(df.shape))\n",
    "    \n",
    "    return df"
   ]
  },
  {
   "cell_type": "code",
   "execution_count": 30,
   "metadata": {},
   "outputs": [
    {
     "name": "stdout",
     "output_type": "stream",
     "text": [
      "shape before:(150000, 11)\n",
      "Shape after: (149372, 11)\n"
     ]
    },
    {
     "name": "stderr",
     "output_type": "stream",
     "text": [
      "/Library/anaconda3/lib/python3.8/site-packages/pandas/core/series.py:726: RuntimeWarning: divide by zero encountered in log\n",
      "  result = getattr(ufunc, method)(*inputs, **kwargs)\n"
     ]
    }
   ],
   "source": [
    "train_data = pd.read_csv(directory+'cs-training.csv')\n",
    "train_data = train_data.iloc[:,1:]\n",
    "train_data = data_process(train_data)"
   ]
  },
  {
   "cell_type": "code",
   "execution_count": 31,
   "metadata": {},
   "outputs": [
    {
     "data": {
      "text/plain": [
       "<AxesSubplot:>"
      ]
     },
     "execution_count": 31,
     "metadata": {},
     "output_type": "execute_result"
    },
    {
     "data": {
      "image/png": "[encoded data removed]",
      "text/plain": [
       "<Figure size 720x720 with 2 Axes>"
      ]
     },
     "metadata": {
      "needs_background": "light"
     },
     "output_type": "display_data"
    }
   ],
   "source": [
    "corr = train_data.corr()\n",
    "plt.figure(figsize=(10,10))\n",
    "sns.heatmap(corr, annot=True, fmt=\".2f\")"
   ]
  },
  {
   "cell_type": "markdown",
   "metadata": {},
   "source": [
    "### Builidng Logistic Regression model"
   ]
  },
  {
   "cell_type": "code",
   "execution_count": 32,
   "metadata": {},
   "outputs": [],
   "source": [
    "from sklearn.ensemble import RandomForestClassifier,GradientBoostingClassifier\n",
    "from sklearn.linear_model import LogisticRegression\n",
    "from sklearn.svm import SVC\n",
    "from sklearn.metrics import mean_squared_error, accuracy_score,confusion_matrix, roc_curve, auc,classification_report, recall_score\n",
    "from sklearn.preprocessing import StandardScaler\n",
    "from sklearn.model_selection import train_test_split,RandomizedSearchCV"
   ]
  },
  {
   "cell_type": "code",
   "execution_count": 33,
   "metadata": {},
   "outputs": [
    {
     "name": "stdout",
     "output_type": "stream",
     "text": [
      "0.7999053892347274\n"
     ]
    },
    {
     "data": {
      "image/png": "[encoded data removed]",
      "text/plain": [
       "<Figure size 720x576 with 1 Axes>"
      ]
     },
     "metadata": {
      "needs_background": "light"
     },
     "output_type": "display_data"
    }
   ],
   "source": [
    "X_train, X_test, y_train, y_test = train_test_split(train_data.iloc[:,1:],\n",
    "                                train_data.iloc[:,0],random_state=42)\n",
    "scaler = StandardScaler().fit(X_train)\n",
    "X_train_scaled = scaler.transform(X_train)\n",
    "X_test_scaled = scaler.transform(X_test)\n",
    "lr = LogisticRegression(random_state=42)\n",
    "lr_model = lr.fit(X_train_scaled,y_train)\n",
    "logit_scores_proba = lr_model.predict_proba(X_test_scaled)\n",
    "logit_scores = logit_scores_proba[:,1]\n",
    "# draw roc curve\n",
    "def plot_roc_curve(y_test,y_predcit):\n",
    "    fpr,tpr,_ = roc_curve(y_test,y_predcit)\n",
    "    roc_auc = auc(fpr,tpr)\n",
    "    print(roc_auc)\n",
    "    plt.figure(figsize=(10,8))\n",
    "    plt.title('ROC curve')\n",
    "    plt.plot(fpr,tpr,label='ROC curve (area = %0.2f)' % roc_auc)\n",
    "    plt.plot([0,1],[0,1],'r--')\n",
    "    plt.legend(loc='lower right')\n",
    "plot_roc_curve(y_test,logit_scores)"
   ]
  },
  {
   "cell_type": "markdown",
   "metadata": {},
   "source": [
    "### Builidng Random Forest model"
   ]
  },
  {
   "cell_type": "code",
   "execution_count": 34,
   "metadata": {},
   "outputs": [
    {
     "data": {
      "text/plain": [
       "RandomizedSearchCV(cv=5, estimator=RandomForestClassifier(),\n",
       "                   param_distributions={'max_depth': [5, 7, 9],\n",
       "                                        'min_samples_leaf': [2, 4, 6, 8],\n",
       "                                        'n_estimators': [9, 18, 27, 36, 100]})"
      ]
     },
     "execution_count": 34,
     "metadata": {},
     "output_type": "execute_result"
    }
   ],
   "source": [
    "random_forest = RandomForestClassifier()\n",
    "param_grid= {\n",
    "    'n_estimators':[9,18,27,36,100],\n",
    "    'max_depth':[5,7,9],\n",
    "    'min_samples_leaf':[2,4,6,8]\n",
    "}\n",
    "rf_model = RandomizedSearchCV(random_forest,param_distributions=param_grid,cv=5)\n",
    "rf_model.fit(X_train,y_train)"
   ]
  },
  {
   "cell_type": "code",
   "execution_count": 35,
   "metadata": {},
   "outputs": [
    {
     "data": {
      "text/plain": [
       "{'n_estimators': 18, 'min_samples_leaf': 6, 'max_depth': 9}"
      ]
     },
     "execution_count": 35,
     "metadata": {},
     "output_type": "execute_result"
    }
   ],
   "source": [
    "rf_model.best_params_"
   ]
  },
  {
   "cell_type": "code",
   "execution_count": 36,
   "metadata": {},
   "outputs": [
    {
     "name": "stdout",
     "output_type": "stream",
     "text": [
      "0.8679201257893236\n"
     ]
    },
    {
     "data": {
      "image/png": "[encoded data removed]",
      "text/plain": [
       "<Figure size 720x576 with 1 Axes>"
      ]
     },
     "metadata": {
      "needs_background": "light"
     },
     "output_type": "display_data"
    }
   ],
   "source": [
    "best_estimator_rf = rf_model.best_estimator_\n",
    "best_estimator_rf.fit(X_train,y_train)\n",
    "y_pred_rf = best_estimator_rf.predict_proba(X_test)[:,1]\n",
    "plot_roc_curve(y_test,y_pred_rf)"
   ]
  },
  {
   "cell_type": "code",
   "execution_count": 37,
   "metadata": {},
   "outputs": [
    {
     "data": {
      "image/png": "[encoded data removed]",
      "text/plain": [
       "<Figure size 720x576 with 1 Axes>"
      ]
     },
     "metadata": {
      "needs_background": "light"
     },
     "output_type": "display_data"
    }
   ],
   "source": [
    "def plot_feature_importance(model):\n",
    "    plt.figure(figsize=(10,8))\n",
    "    n_features = X_train.shape[1]\n",
    "    plt.barh(range(n_features),model.feature_importances_,align='center')\n",
    "    plt.yticks(np.arange(n_features),X_train.columns)\n",
    "    plt.xlabel('Feature importance')\n",
    "    plt.ylabel('Feature')\n",
    "    plt.ylim(-1,n_features)\n",
    "\n",
    "plot_feature_importance(best_estimator_rf)"
   ]
  },
  {
   "cell_type": "markdown",
   "metadata": {},
   "source": [
    "### Submission "
   ]
  },
  {
   "cell_type": "code",
   "execution_count": 38,
   "metadata": {},
   "outputs": [
    {
     "data": {
      "text/html": [
       "<div>\n",
       "<style scoped>\n",
       "    .dataframe tbody tr th:only-of-type {\n",
       "        vertical-align: middle;\n",
       "    }\n",
       "\n",
       "    .dataframe tbody tr th {\n",
       "        vertical-align: top;\n",
       "    }\n",
       "\n",
       "    .dataframe thead th {\n",
       "        text-align: right;\n",
       "    }\n",
       "</style>\n",
       "<table border=\"1\" class=\"dataframe\">\n",
       "  <thead>\n",
       "    <tr style=\"text-align: right;\">\n",
       "      <th></th>\n",
       "      <th>Unnamed: 0</th>\n",
       "      <th>SeriousDlqin2yrs</th>\n",
       "      <th>RevolvingUtilizationOfUnsecuredLines</th>\n",
       "      <th>age</th>\n",
       "      <th>NumberOfTime30-59DaysPastDueNotWorse</th>\n",
       "      <th>DebtRatio</th>\n",
       "      <th>MonthlyIncome</th>\n",
       "      <th>NumberOfOpenCreditLinesAndLoans</th>\n",
       "      <th>NumberOfTimes90DaysLate</th>\n",
       "      <th>NumberRealEstateLoansOrLines</th>\n",
       "      <th>NumberOfTime60-89DaysPastDueNotWorse</th>\n",
       "      <th>NumberOfDependents</th>\n",
       "    </tr>\n",
       "  </thead>\n",
       "  <tbody>\n",
       "    <tr>\n",
       "      <th>0</th>\n",
       "      <td>1</td>\n",
       "      <td>NaN</td>\n",
       "      <td>0.885519</td>\n",
       "      <td>43</td>\n",
       "      <td>0</td>\n",
       "      <td>0.177513</td>\n",
       "      <td>5700.0</td>\n",
       "      <td>4</td>\n",
       "      <td>0</td>\n",
       "      <td>0</td>\n",
       "      <td>0</td>\n",
       "      <td>0.0</td>\n",
       "    </tr>\n",
       "    <tr>\n",
       "      <th>1</th>\n",
       "      <td>2</td>\n",
       "      <td>NaN</td>\n",
       "      <td>0.463295</td>\n",
       "      <td>57</td>\n",
       "      <td>0</td>\n",
       "      <td>0.527237</td>\n",
       "      <td>9141.0</td>\n",
       "      <td>15</td>\n",
       "      <td>0</td>\n",
       "      <td>4</td>\n",
       "      <td>0</td>\n",
       "      <td>2.0</td>\n",
       "    </tr>\n",
       "    <tr>\n",
       "      <th>2</th>\n",
       "      <td>3</td>\n",
       "      <td>NaN</td>\n",
       "      <td>0.043275</td>\n",
       "      <td>59</td>\n",
       "      <td>0</td>\n",
       "      <td>0.687648</td>\n",
       "      <td>5083.0</td>\n",
       "      <td>12</td>\n",
       "      <td>0</td>\n",
       "      <td>1</td>\n",
       "      <td>0</td>\n",
       "      <td>2.0</td>\n",
       "    </tr>\n",
       "    <tr>\n",
       "      <th>3</th>\n",
       "      <td>4</td>\n",
       "      <td>NaN</td>\n",
       "      <td>0.280308</td>\n",
       "      <td>38</td>\n",
       "      <td>1</td>\n",
       "      <td>0.925961</td>\n",
       "      <td>3200.0</td>\n",
       "      <td>7</td>\n",
       "      <td>0</td>\n",
       "      <td>2</td>\n",
       "      <td>0</td>\n",
       "      <td>0.0</td>\n",
       "    </tr>\n",
       "    <tr>\n",
       "      <th>4</th>\n",
       "      <td>5</td>\n",
       "      <td>NaN</td>\n",
       "      <td>1.000000</td>\n",
       "      <td>27</td>\n",
       "      <td>0</td>\n",
       "      <td>0.019917</td>\n",
       "      <td>3865.0</td>\n",
       "      <td>4</td>\n",
       "      <td>0</td>\n",
       "      <td>0</td>\n",
       "      <td>0</td>\n",
       "      <td>1.0</td>\n",
       "    </tr>\n",
       "    <tr>\n",
       "      <th>...</th>\n",
       "      <td>...</td>\n",
       "      <td>...</td>\n",
       "      <td>...</td>\n",
       "      <td>...</td>\n",
       "      <td>...</td>\n",
       "      <td>...</td>\n",
       "      <td>...</td>\n",
       "      <td>...</td>\n",
       "      <td>...</td>\n",
       "      <td>...</td>\n",
       "      <td>...</td>\n",
       "      <td>...</td>\n",
       "    </tr>\n",
       "    <tr>\n",
       "      <th>101498</th>\n",
       "      <td>101499</td>\n",
       "      <td>NaN</td>\n",
       "      <td>0.282653</td>\n",
       "      <td>24</td>\n",
       "      <td>0</td>\n",
       "      <td>0.068522</td>\n",
       "      <td>1400.0</td>\n",
       "      <td>5</td>\n",
       "      <td>0</td>\n",
       "      <td>0</td>\n",
       "      <td>0</td>\n",
       "      <td>0.0</td>\n",
       "    </tr>\n",
       "    <tr>\n",
       "      <th>101499</th>\n",
       "      <td>101500</td>\n",
       "      <td>NaN</td>\n",
       "      <td>0.922156</td>\n",
       "      <td>36</td>\n",
       "      <td>3</td>\n",
       "      <td>0.934217</td>\n",
       "      <td>7615.0</td>\n",
       "      <td>8</td>\n",
       "      <td>0</td>\n",
       "      <td>2</td>\n",
       "      <td>0</td>\n",
       "      <td>4.0</td>\n",
       "    </tr>\n",
       "    <tr>\n",
       "      <th>101500</th>\n",
       "      <td>101501</td>\n",
       "      <td>NaN</td>\n",
       "      <td>0.081596</td>\n",
       "      <td>70</td>\n",
       "      <td>0</td>\n",
       "      <td>836.000000</td>\n",
       "      <td>NaN</td>\n",
       "      <td>3</td>\n",
       "      <td>0</td>\n",
       "      <td>0</td>\n",
       "      <td>0</td>\n",
       "      <td>NaN</td>\n",
       "    </tr>\n",
       "    <tr>\n",
       "      <th>101501</th>\n",
       "      <td>101502</td>\n",
       "      <td>NaN</td>\n",
       "      <td>0.335457</td>\n",
       "      <td>56</td>\n",
       "      <td>0</td>\n",
       "      <td>3568.000000</td>\n",
       "      <td>NaN</td>\n",
       "      <td>8</td>\n",
       "      <td>0</td>\n",
       "      <td>2</td>\n",
       "      <td>1</td>\n",
       "      <td>3.0</td>\n",
       "    </tr>\n",
       "    <tr>\n",
       "      <th>101502</th>\n",
       "      <td>101503</td>\n",
       "      <td>NaN</td>\n",
       "      <td>0.441842</td>\n",
       "      <td>29</td>\n",
       "      <td>0</td>\n",
       "      <td>0.198918</td>\n",
       "      <td>5916.0</td>\n",
       "      <td>12</td>\n",
       "      <td>0</td>\n",
       "      <td>0</td>\n",
       "      <td>0</td>\n",
       "      <td>0.0</td>\n",
       "    </tr>\n",
       "  </tbody>\n",
       "</table>\n",
       "<p>101503 rows × 12 columns</p>\n",
       "</div>"
      ],
      "text/plain": [
       "        Unnamed: 0  SeriousDlqin2yrs  RevolvingUtilizationOfUnsecuredLines  \\\n",
       "0                1               NaN                              0.885519   \n",
       "1                2               NaN                              0.463295   \n",
       "2                3               NaN                              0.043275   \n",
       "3                4               NaN                              0.280308   \n",
       "4                5               NaN                              1.000000   \n",
       "...            ...               ...                                   ...   \n",
       "101498      101499               NaN                              0.282653   \n",
       "101499      101500               NaN                              0.922156   \n",
       "101500      101501               NaN                              0.081596   \n",
       "101501      101502               NaN                              0.335457   \n",
       "101502      101503               NaN                              0.441842   \n",
       "\n",
       "        age  NumberOfTime30-59DaysPastDueNotWorse    DebtRatio  MonthlyIncome  \\\n",
       "0        43                                     0     0.177513         5700.0   \n",
       "1        57                                     0     0.527237         9141.0   \n",
       "2        59                                     0     0.687648         5083.0   \n",
       "3        38                                     1     0.925961         3200.0   \n",
       "4        27                                     0     0.019917         3865.0   \n",
       "...     ...                                   ...          ...            ...   \n",
       "101498   24                                     0     0.068522         1400.0   \n",
       "101499   36                                     3     0.934217         7615.0   \n",
       "101500   70                                     0   836.000000            NaN   \n",
       "101501   56                                     0  3568.000000            NaN   \n",
       "101502   29                                     0     0.198918         5916.0   \n",
       "\n",
       "        NumberOfOpenCreditLinesAndLoans  NumberOfTimes90DaysLate  \\\n",
       "0                                     4                        0   \n",
       "1                                    15                        0   \n",
       "2                                    12                        0   \n",
       "3                                     7                        0   \n",
       "4                                     4                        0   \n",
       "...                                 ...                      ...   \n",
       "101498                                5                        0   \n",
       "101499                                8                        0   \n",
       "101500                                3                        0   \n",
       "101501                                8                        0   \n",
       "101502                               12                        0   \n",
       "\n",
       "        NumberRealEstateLoansOrLines  NumberOfTime60-89DaysPastDueNotWorse  \\\n",
       "0                                  0                                     0   \n",
       "1                                  4                                     0   \n",
       "2                                  1                                     0   \n",
       "3                                  2                                     0   \n",
       "4                                  0                                     0   \n",
       "...                              ...                                   ...   \n",
       "101498                             0                                     0   \n",
       "101499                             2                                     0   \n",
       "101500                             0                                     0   \n",
       "101501                             2                                     1   \n",
       "101502                             0                                     0   \n",
       "\n",
       "        NumberOfDependents  \n",
       "0                      0.0  \n",
       "1                      2.0  \n",
       "2                      2.0  \n",
       "3                      0.0  \n",
       "4                      1.0  \n",
       "...                    ...  \n",
       "101498                 0.0  \n",
       "101499                 4.0  \n",
       "101500                 NaN  \n",
       "101501                 3.0  \n",
       "101502                 0.0  \n",
       "\n",
       "[101503 rows x 12 columns]"
      ]
     },
     "execution_count": 38,
     "metadata": {},
     "output_type": "execute_result"
    }
   ],
   "source": [
    "test_file = directory + 'cs-test.csv'\n",
    "test_data = pd.read_csv(test_file)\n",
    "test_data"
   ]
  },
  {
   "cell_type": "code",
   "execution_count": 39,
   "metadata": {},
   "outputs": [
    {
     "name": "stdout",
     "output_type": "stream",
     "text": [
      "shape before:(101503, 11)\n",
      "Shape after: (101503, 11)\n"
     ]
    },
    {
     "name": "stderr",
     "output_type": "stream",
     "text": [
      "/Library/anaconda3/lib/python3.8/site-packages/pandas/core/series.py:726: RuntimeWarning: divide by zero encountered in log\n",
      "  result = getattr(ufunc, method)(*inputs, **kwargs)\n"
     ]
    }
   ],
   "source": [
    "test_data = test_data.iloc[:,1:]\n",
    "test_data = data_process(test_data,True)"
   ]
  },
  {
   "cell_type": "code",
   "execution_count": 40,
   "metadata": {},
   "outputs": [],
   "source": [
    "test_data.drop(['SeriousDlqin2yrs'],axis=1,inplace=True)"
   ]
  },
  {
   "cell_type": "code",
   "execution_count": 41,
   "metadata": {},
   "outputs": [],
   "source": [
    "submission_score = best_estimator_rf.predict_proba(test_data)[:,1]"
   ]
  },
  {
   "cell_type": "code",
   "execution_count": 42,
   "metadata": {},
   "outputs": [
    {
     "data": {
      "text/plain": [
       "101503"
      ]
     },
     "execution_count": 42,
     "metadata": {},
     "output_type": "execute_result"
    }
   ],
   "source": [
    "submission_score.shape[0]"
   ]
  },
  {
   "cell_type": "code",
   "execution_count": 59,
   "metadata": {},
   "outputs": [],
   "source": [
    "submission = pd.DataFrame( {'Id': np.arange(1,submission_score.shape[0]+1), 'Probability': submission_score})\n",
    "submission.to_csv(directory+'gimme_submision.csv', index=False)"
   ]
  },
  {
   "cell_type": "markdown",
   "metadata": {},
   "source": [
    "### Weight of Evidence transformation"
   ]
  },
  {
   "cell_type": "markdown",
   "metadata": {},
   "source": [
    "I will take a step forward and try using WOE transformation as features to predict in logistic regression model.\n",
    "<br> Regarding WOE transformation, please check [here](https://github.com/Canshuo/data-analysis-projects-with-python/blob/main/WEIGHT%20OF%20EVIDENCE%20(WOE)%20AND%20INFORMATION%20VALUE%20(IV)%20EXPLAINED.ipynb)"
   ]
  },
  {
   "cell_type": "code",
   "execution_count": 43,
   "metadata": {},
   "outputs": [],
   "source": [
    "def optimal_binning_boundary(x: pd.Series, y: pd.Series, nan: float = -999.) -> list:\n",
    "    '''\n",
    "        use DecisionTree to get optimal bins\n",
    "    '''\n",
    "    import pandas as pd \n",
    "    import numpy as np \n",
    "    from sklearn.tree import DecisionTreeClassifier\n",
    "    \n",
    "    boundary = []  \n",
    "    \n",
    "    x = x.fillna(nan).values  \n",
    "    y = y.values\n",
    "    \n",
    "    clf = DecisionTreeClassifier(criterion='entropy',    \n",
    "                                 max_leaf_nodes=6,       \n",
    "                                 min_samples_leaf=0.05)  \n",
    "\n",
    "    clf.fit(x.reshape(-1, 1), y)  \n",
    "    \n",
    "    n_nodes = clf.tree_.node_count\n",
    "    children_left = clf.tree_.children_left\n",
    "    children_right = clf.tree_.children_right\n",
    "    threshold = clf.tree_.threshold\n",
    "    \n",
    "    for i in range(n_nodes):\n",
    "        if children_left[i] != children_right[i]:  \n",
    "            boundary.append(threshold[i])\n",
    "\n",
    "    boundary.sort()\n",
    "\n",
    "    min_x = x.min()\n",
    "    max_x = x.max() + 0.1  \n",
    "    boundary = [min_x] + boundary + [max_x]\n",
    "\n",
    "    return boundary\n",
    "\n",
    "def feature_woe_iv(x: pd.Series, y: pd.Series, nan: float = -999.) -> pd.DataFrame:\n",
    "    '''\n",
    "        calculate the woe value and iv for each variable, and return a DataFrame\n",
    "    '''\n",
    "    x = x.fillna(nan)\n",
    "    boundary = optimal_binning_boundary(x, y, nan)        \n",
    "    df = pd.concat([x, y], axis=1)                        \n",
    "    df.columns = ['x', 'y']                               \n",
    "    df['bins'] = pd.cut(x=x, bins=boundary, right=False)  \n",
    "    \n",
    "    grouped = df.groupby('bins')['y']                     \n",
    "    result_df = grouped.agg([('good',  lambda y: (y == 0).sum()), \n",
    "                             ('bad',   lambda y: (y == 1).sum()),\n",
    "                             ('total', 'count')])\n",
    "\n",
    "    result_df['good_pct'] = result_df['good'] / result_df['good'].sum()       \n",
    "    result_df['bad_pct'] = result_df['bad'] / result_df['bad'].sum()          \n",
    "    result_df['total_pct'] = result_df['total'] / result_df['total'].sum()    \n",
    "\n",
    "    result_df['bad_rate'] = result_df['bad'] / result_df['total']             \n",
    "    \n",
    "    result_df['woe'] = np.log(result_df['good_pct'] / result_df['bad_pct'])              \n",
    "    result_df['iv'] = (result_df['good_pct'] - result_df['bad_pct']) * result_df['woe']  \n",
    "    \n",
    "    return result_df"
   ]
  },
  {
   "cell_type": "markdown",
   "metadata": {},
   "source": [
    "### interpretation the IV value\n",
    "<table>\n",
    "<tr>\n",
    "<td>Information Value </td>\n",
    "<td>Variable Predictiveness</td>\n",
    "</tr>\n",
    "<tr>\n",
    "<td>Less than 0.02 </td>\n",
    "<td>Not useful for prediction</td>\n",
    "</tr>\n",
    "<tr>\n",
    "<td>0.02 to 0.1 </td>\n",
    "<td>Weak predictive Power</td>\n",
    "</tr>\n",
    "<tr>\n",
    "<td>0.1 to 0.3 </td>\n",
    "<td>Medium predictive Power</td>\n",
    "</tr>\n",
    "<tr>\n",
    "<td>0.3 to 0.5</td>\n",
    "<td>Strong predictive Power</td>\n",
    "</tr>\n",
    "<tr>\n",
    "<td>0.5 </td>\n",
    "<td>Suspicious Predictive Power</td>\n",
    "</tr>\n",
    "</table>\n",
    "\n",
    "If the IV statistic is:\n",
    "- Less than 0.02, then the predictor is not useful for modeling (separating the Goods from the Bads)\n",
    "- 0.02 to 0.1, then the predictor has only a weak relationship to the Goods/Bads odds ratio\n",
    "- 0.1 to 0.3, then the predictor has a medium strength relationship to the Goods/Bads odds ratio\n",
    "- 0.3 to 0.5, then the predictor has a strong relationship to the Goods/Bads odds ratio.\n",
    "- 0.5, suspicious relationship (Check once)"
   ]
  },
  {
   "cell_type": "code",
   "execution_count": 44,
   "metadata": {},
   "outputs": [
    {
     "name": "stdout",
     "output_type": "stream",
     "text": [
      "shape before:(150000, 11)\n",
      "Shape after: (149372, 11)\n"
     ]
    },
    {
     "name": "stderr",
     "output_type": "stream",
     "text": [
      "/Library/anaconda3/lib/python3.8/site-packages/pandas/core/series.py:726: RuntimeWarning: divide by zero encountered in log\n",
      "  result = getattr(ufunc, method)(*inputs, **kwargs)\n"
     ]
    }
   ],
   "source": [
    "train_data = pd.read_csv(directory+'cs-training.csv')\n",
    "train_data = train_data.iloc[:,1:]\n",
    "train_data = data_process(train_data)"
   ]
  },
  {
   "cell_type": "code",
   "execution_count": 45,
   "metadata": {},
   "outputs": [],
   "source": [
    "Y = train_data['SeriousDlqin2yrs']\n",
    "X_feature = train_data.drop('SeriousDlqin2yrs',axis=1)\n",
    "iv_bins = [0,0.02,0.1,0.3,0.5,1]\n",
    "labels = ['unpredictive','weak','medium','strong','Suspicious']\n",
    "iv_sum = []\n",
    "woes = dict()\n",
    "bins = dict()\n",
    "woeData = pd.DataFrame()\n",
    "for i in X_feature.columns:\n",
    "    bin_ = optimal_binning_boundary(X_feature[i],Y)\n",
    "    bins[i]=bin_\n",
    "    iv_table = feature_woe_iv(X_feature[i],Y)\n",
    "    woes[i] = iv_table['woe']\n",
    "    iv_sum.append(iv_table['iv'].sum())\n",
    "    woeData[i]= pd.cut(X_feature[i],bins=bin_,labels=iv_table['woe'].values,include_lowest=True)\n",
    "    \n",
    "iv = pd.DataFrame({'variables':X_feature.columns,'IV value':iv_sum})\n",
    "iv['evaluation'] = pd.cut(iv['IV value'],bins=iv_bins,labels=labels)"
   ]
  },
  {
   "cell_type": "code",
   "execution_count": 46,
   "metadata": {},
   "outputs": [
    {
     "data": {
      "text/html": [
       "<div>\n",
       "<style scoped>\n",
       "    .dataframe tbody tr th:only-of-type {\n",
       "        vertical-align: middle;\n",
       "    }\n",
       "\n",
       "    .dataframe tbody tr th {\n",
       "        vertical-align: top;\n",
       "    }\n",
       "\n",
       "    .dataframe thead th {\n",
       "        text-align: right;\n",
       "    }\n",
       "</style>\n",
       "<table border=\"1\" class=\"dataframe\">\n",
       "  <thead>\n",
       "    <tr style=\"text-align: right;\">\n",
       "      <th></th>\n",
       "      <th>variables</th>\n",
       "      <th>IV value</th>\n",
       "      <th>evaluation</th>\n",
       "    </tr>\n",
       "  </thead>\n",
       "  <tbody>\n",
       "    <tr>\n",
       "      <th>0</th>\n",
       "      <td>RevolvingUtilizationOfUnsecuredLines</td>\n",
       "      <td>1.104352</td>\n",
       "      <td>NaN</td>\n",
       "    </tr>\n",
       "    <tr>\n",
       "      <th>1</th>\n",
       "      <td>age</td>\n",
       "      <td>0.262025</td>\n",
       "      <td>medium</td>\n",
       "    </tr>\n",
       "    <tr>\n",
       "      <th>2</th>\n",
       "      <td>NumberOfTime30-59DaysPastDueNotWorse</td>\n",
       "      <td>0.742203</td>\n",
       "      <td>Suspicious</td>\n",
       "    </tr>\n",
       "    <tr>\n",
       "      <th>3</th>\n",
       "      <td>DebtRatio</td>\n",
       "      <td>0.074746</td>\n",
       "      <td>weak</td>\n",
       "    </tr>\n",
       "    <tr>\n",
       "      <th>4</th>\n",
       "      <td>MonthlyIncome</td>\n",
       "      <td>0.117894</td>\n",
       "      <td>medium</td>\n",
       "    </tr>\n",
       "    <tr>\n",
       "      <th>5</th>\n",
       "      <td>NumberOfOpenCreditLinesAndLoans</td>\n",
       "      <td>0.084156</td>\n",
       "      <td>weak</td>\n",
       "    </tr>\n",
       "    <tr>\n",
       "      <th>6</th>\n",
       "      <td>NumberOfTimes90DaysLate</td>\n",
       "      <td>0.838910</td>\n",
       "      <td>Suspicious</td>\n",
       "    </tr>\n",
       "    <tr>\n",
       "      <th>7</th>\n",
       "      <td>NumberRealEstateLoansOrLines</td>\n",
       "      <td>0.055385</td>\n",
       "      <td>weak</td>\n",
       "    </tr>\n",
       "    <tr>\n",
       "      <th>8</th>\n",
       "      <td>NumberOfTime60-89DaysPastDueNotWorse</td>\n",
       "      <td>0.573638</td>\n",
       "      <td>Suspicious</td>\n",
       "    </tr>\n",
       "    <tr>\n",
       "      <th>9</th>\n",
       "      <td>NumberOfDependents</td>\n",
       "      <td>0.033921</td>\n",
       "      <td>weak</td>\n",
       "    </tr>\n",
       "  </tbody>\n",
       "</table>\n",
       "</div>"
      ],
      "text/plain": [
       "                              variables  IV value  evaluation\n",
       "0  RevolvingUtilizationOfUnsecuredLines  1.104352         NaN\n",
       "1                                   age  0.262025      medium\n",
       "2  NumberOfTime30-59DaysPastDueNotWorse  0.742203  Suspicious\n",
       "3                             DebtRatio  0.074746        weak\n",
       "4                         MonthlyIncome  0.117894      medium\n",
       "5       NumberOfOpenCreditLinesAndLoans  0.084156        weak\n",
       "6               NumberOfTimes90DaysLate  0.838910  Suspicious\n",
       "7          NumberRealEstateLoansOrLines  0.055385        weak\n",
       "8  NumberOfTime60-89DaysPastDueNotWorse  0.573638  Suspicious\n",
       "9                    NumberOfDependents  0.033921        weak"
      ]
     },
     "execution_count": 46,
     "metadata": {},
     "output_type": "execute_result"
    }
   ],
   "source": [
    "iv"
   ]
  },
  {
   "cell_type": "code",
   "execution_count": 47,
   "metadata": {},
   "outputs": [],
   "source": [
    "# pack the cleaning process and WOE transformation into a function\n",
    "def data_process(df,is_submission=False):\n",
    "    print('shape before:{}'.format(df.shape))\n",
    "    df.loc[(df['age']<18) & (df['age']>96),'age'] = df['age'].median()\n",
    "    \n",
    "    df['DebtRatio'] = np.log(df['DebtRatio'])\n",
    "    df[\"DebtRatio\"].replace([np.inf, -np.inf], -10, inplace=True)\n",
    "    \n",
    "    if not is_submission:\n",
    "        df = df[df[\"MonthlyIncome\"] != 1]\n",
    "    utilization_outlier = 8238\n",
    "    if not is_submission:\n",
    "        df = df[df['RevolvingUtilizationOfUnsecuredLines'] <= utilization_outlier]\n",
    "    \n",
    "    imputeDf = df[['age','NumberOfDependents','MonthlyIncome']].copy()\n",
    "    imputeDf['seniority'] = pd.cut(imputeDf['age'],[0,35,60,np.inf],\n",
    "                               labels=['junior','senior','mature'],include_lowest=True)\n",
    "    income_dict = imputeDf.groupby('seniority')['MonthlyIncome'].median().to_dict()\n",
    "    for label, median in income_dict.items():\n",
    "        imputeDf['MonthlyIncome'] = np.where((imputeDf['MonthlyIncome'].isnull()) & (imputeDf['seniority'] ==label),\n",
    "                                        int(median),imputeDf['MonthlyIncome'])\n",
    "    df['MonthlyIncome'] = imputeDf[\"MonthlyIncome\"]\n",
    "    df['NumberOfDependents'].fillna(0, inplace=True)\n",
    "    \n",
    "    maximum_map = dict(zip(['NumberOfTime30-59DaysPastDueNotWorse','NumberOfTimes90DaysLate','NumberOfTime60-89DaysPastDueNotWorse'],\n",
    "                          [13,17,11]))\n",
    "    for column, value in maximum_map.items():\n",
    "        df.loc[df[column]>=96,column] = maximum_map[column]\n",
    "    print(\"Shape after: {}\".format(df.shape))\n",
    "    \n",
    "    return df\n",
    "def optimal_binning_boundary(x: pd.Series, y: pd.Series, nan: float = -999.) -> list:\n",
    "    '''\n",
    "        use DecisionTree to get optimal bins\n",
    "    '''\n",
    "    import pandas as pd \n",
    "    import numpy as np \n",
    "    from sklearn.tree import DecisionTreeClassifier\n",
    "    \n",
    "    boundary = []  \n",
    "    \n",
    "    x = x.fillna(nan).values  \n",
    "    y = y.values\n",
    "    \n",
    "    clf = DecisionTreeClassifier(criterion='entropy',    \n",
    "                                 max_leaf_nodes=6,       \n",
    "                                 min_samples_leaf=0.05)  \n",
    "\n",
    "    clf.fit(x.reshape(-1, 1), y)  \n",
    "    \n",
    "    n_nodes = clf.tree_.node_count\n",
    "    children_left = clf.tree_.children_left\n",
    "    children_right = clf.tree_.children_right\n",
    "    threshold = clf.tree_.threshold\n",
    "    \n",
    "    for i in range(n_nodes):\n",
    "        if children_left[i] != children_right[i]:  \n",
    "            boundary.append(threshold[i])\n",
    "\n",
    "    boundary.sort()\n",
    "\n",
    "    min_x = x.min()\n",
    "    max_x = x.max() + 0.1  \n",
    "    boundary = [min_x] + boundary + [max_x]\n",
    "\n",
    "    return boundary\n",
    "\n",
    "def feature_woe_iv(x: pd.Series, y: pd.Series, nan: float = -999.) -> pd.DataFrame:\n",
    "    '''\n",
    "        calculate the woe value and iv for each variable, and return a DataFrame\n",
    "    '''\n",
    "    x = x.fillna(nan)\n",
    "    boundary = optimal_binning_boundary(x, y, nan)        \n",
    "    df = pd.concat([x, y], axis=1)                        \n",
    "    df.columns = ['x', 'y']                               \n",
    "    df['bins'] = pd.cut(x=x, bins=boundary, right=False)  \n",
    "    \n",
    "    grouped = df.groupby('bins')['y']                     \n",
    "    result_df = grouped.agg([('good',  lambda y: (y == 0).sum()), \n",
    "                             ('bad',   lambda y: (y == 1).sum()),\n",
    "                             ('total', 'count')])\n",
    "\n",
    "    result_df['good_pct'] = result_df['good'] / result_df['good'].sum()       \n",
    "    result_df['bad_pct'] = result_df['bad'] / result_df['bad'].sum()          \n",
    "    result_df['total_pct'] = result_df['total'] / result_df['total'].sum()    \n",
    "\n",
    "    result_df['bad_rate'] = result_df['bad'] / result_df['total']             \n",
    "    \n",
    "    result_df['woe'] = np.log(result_df['good_pct'] / result_df['bad_pct'])              \n",
    "    result_df['iv'] = (result_df['good_pct'] - result_df['bad_pct']) * result_df['woe']  \n",
    "    \n",
    "    return result_df\n",
    "\n",
    "def WOE_tranform(df,is_submission=False):\n",
    "    import pickle\n",
    "    df = data_process(df,is_submission)\n",
    "    target = 'SeriousDlqin2yrs'\n",
    "    X_feature = df.drop([target],axis=1)\n",
    "    Y = df[target]\n",
    "    woeData = pd.DataFrame()\n",
    "    if not is_submission:\n",
    "        woes = dict()\n",
    "        bins = dict()\n",
    "        for i in X_feature.columns:\n",
    "            bin_ = optimal_binning_boundary(X_feature[i],Y)\n",
    "            bins[i] = bin_\n",
    "            iv_table = feature_woe_iv(X_feature[i],Y)\n",
    "            woes[i] = iv_table['woe'].values\n",
    "            woeData[i] = pd.cut(X_feature[i],bins=bin_,labels=iv_table['woe'].values,include_lowest=True)\n",
    "        with open('bins.pickle', 'wb') as handle:\n",
    "            pickle.dump(bins, handle, protocol=pickle.HIGHEST_PROTOCOL)\n",
    "        with open('woes.pickle', 'wb') as handle:\n",
    "            pickle.dump(woes, handle, protocol=pickle.HIGHEST_PROTOCOL)\n",
    "        \n",
    "    elif is_submission:\n",
    "        with open('bins.pickle','rb') as handle:\n",
    "            bins = pickle.load(handle)\n",
    "        with open('woes.pickle', 'rb') as handle:\n",
    "            woes = pickle.load(handle)\n",
    "        for i in X_feature.columns:\n",
    "            woeData[i] = pd.cut(X_feature[i],bins=bins[i],labels=woes[i],include_lowest=True)\n",
    "           \n",
    "    return woeData"
   ]
  },
  {
   "cell_type": "markdown",
   "metadata": {},
   "source": [
    "### Builidng Logistic Regression model with the Weight-of-evidence-transformed data"
   ]
  },
  {
   "cell_type": "code",
   "execution_count": 48,
   "metadata": {},
   "outputs": [
    {
     "name": "stdout",
     "output_type": "stream",
     "text": [
      "shape before:(150000, 11)\n",
      "Shape after: (149372, 11)\n"
     ]
    },
    {
     "name": "stderr",
     "output_type": "stream",
     "text": [
      "/Library/anaconda3/lib/python3.8/site-packages/pandas/core/series.py:726: RuntimeWarning: divide by zero encountered in log\n",
      "  result = getattr(ufunc, method)(*inputs, **kwargs)\n"
     ]
    },
    {
     "name": "stdout",
     "output_type": "stream",
     "text": [
      "shape before:(150000, 11)\n",
      "Shape after: (149372, 11)\n"
     ]
    },
    {
     "name": "stderr",
     "output_type": "stream",
     "text": [
      "/Library/anaconda3/lib/python3.8/site-packages/pandas/core/series.py:726: RuntimeWarning: divide by zero encountered in log\n",
      "  result = getattr(ufunc, method)(*inputs, **kwargs)\n",
      "/Library/anaconda3/lib/python3.8/site-packages/pandas/core/series.py:726: RuntimeWarning: invalid value encountered in log\n",
      "  result = getattr(ufunc, method)(*inputs, **kwargs)\n"
     ]
    }
   ],
   "source": [
    "train_data = pd.read_csv(directory+'cs-training.csv')\n",
    "train_data = train_data.iloc[:,1:]\n",
    "woeData = WOE_tranform(train_data)\n",
    "Y = data_process(train_data)['SeriousDlqin2yrs']"
   ]
  },
  {
   "cell_type": "code",
   "execution_count": 49,
   "metadata": {},
   "outputs": [],
   "source": [
    "with open('bins.pickle','rb') as handle:\n",
    "    bins = pickle.load(handle)\n",
    "with open('woes.pickle', 'rb') as handle:\n",
    "    woes = pickle.load(handle)"
   ]
  },
  {
   "cell_type": "code",
   "execution_count": 50,
   "metadata": {},
   "outputs": [
    {
     "data": {
      "text/plain": [
       "{'RevolvingUtilizationOfUnsecuredLines': [0.0,\n",
       "  0.11458224803209305,\n",
       "  0.21776090562343597,\n",
       "  0.49497613310813904,\n",
       "  0.6981423199176788,\n",
       "  0.8596274554729462,\n",
       "  8228.1],\n",
       " 'age': [0, 36.5, 43.5, 55.5, 62.5, 67.5, 109.1],\n",
       " 'NumberOfTime30-59DaysPastDueNotWorse': [0, 0.5, 1.5, 13.1],\n",
       " 'DebtRatio': [-10.557414019942792,\n",
       "  -0.8596250116825104,\n",
       "  -0.6822199523448944,\n",
       "  -0.4251452535390854,\n",
       "  1.379482090473175,\n",
       "  6.903244972229004,\n",
       "  12.805829232925257],\n",
       " 'MonthlyIncome': [0.0, 1667.5, 3728.5, 4833.5, 5254.5, 6643.5, 3008750.1],\n",
       " 'NumberOfOpenCreditLinesAndLoans': [0, 2.5, 3.5, 5.5, 8.5, 13.5, 58.1],\n",
       " 'NumberOfTimes90DaysLate': [0, 0.5, 17.1],\n",
       " 'NumberRealEstateLoansOrLines': [0, 0.5, 1.5, 2.5, 54.1],\n",
       " 'NumberOfTime60-89DaysPastDueNotWorse': [0, 0.5, 11.1],\n",
       " 'NumberOfDependents': [0.0, 0.5, 1.5, 2.5, 20.1]}"
      ]
     },
     "execution_count": 50,
     "metadata": {},
     "output_type": "execute_result"
    }
   ],
   "source": [
    "bins"
   ]
  },
  {
   "cell_type": "code",
   "execution_count": 51,
   "metadata": {},
   "outputs": [
    {
     "data": {
      "text/plain": [
       "{'RevolvingUtilizationOfUnsecuredLines': array([ 1.35823033,  0.84407208,  0.28712742, -0.38064227, -0.8232472 ,\n",
       "        -1.36752159]),\n",
       " 'age': array([-0.54960355, -0.32714448, -0.14109609,  0.30110308,  0.72847776,\n",
       "         1.13805838]),\n",
       " 'NumberOfTime30-59DaysPastDueNotWorse': array([ 0.54281452, -0.90388228, -1.90172482]),\n",
       " 'DebtRatio': array([ 0.13727978, -0.08639704, -0.31915881, -0.5948903 ,  0.0468837 ,\n",
       "         0.32858818]),\n",
       " 'MonthlyIncome': array([-0.20987645, -0.43621571, -0.2149676 ,  0.58549742, -0.0170985 ,\n",
       "         0.33943508]),\n",
       " 'NumberOfOpenCreditLinesAndLoans': array([-0.7320601 , -0.12868809,  0.05035757,  0.23768818,  0.14239564,\n",
       "        -0.04546018]),\n",
       " 'NumberOfTimes90DaysLate': array([ 0.39033997, -2.29908654]),\n",
       " 'NumberRealEstateLoansOrLines': array([-0.23697935,  0.25630295,  0.18930233, -0.24924245]),\n",
       " 'NumberOfTime60-89DaysPastDueNotWorse': array([ 0.28863996, -2.0811324 ]),\n",
       " 'NumberOfDependents': array([ 0.14994168, -0.10060788, -0.21114462, -0.3537308 ])}"
      ]
     },
     "execution_count": 51,
     "metadata": {},
     "output_type": "execute_result"
    }
   ],
   "source": [
    "woes"
   ]
  },
  {
   "cell_type": "code",
   "execution_count": 52,
   "metadata": {},
   "outputs": [
    {
     "name": "stdout",
     "output_type": "stream",
     "text": [
      "0.8644832566581159\n"
     ]
    },
    {
     "data": {
      "image/png": "[encoded data removed]",
      "text/plain": [
       "<Figure size 720x576 with 1 Axes>"
      ]
     },
     "metadata": {
      "needs_background": "light"
     },
     "output_type": "display_data"
    }
   ],
   "source": [
    "X_train, X_test, y_train, y_test = train_test_split(woeData,\n",
    "                                Y,random_state=42)\n",
    "\n",
    "lr = LogisticRegression(random_state=42)\n",
    "lr_model = lr.fit(X_train,y_train)\n",
    "logit_scores_proba = lr_model.predict_proba(X_test)\n",
    "logit_scores = logit_scores_proba[:,1]\n",
    "# draw roc curve\n",
    "def plot_roc_curve(y_test,y_predcit):\n",
    "    fpr,tpr,_ = roc_curve(y_test,y_predcit)\n",
    "    roc_auc = auc(fpr,tpr)\n",
    "    print(roc_auc)\n",
    "    plt.figure(figsize=(10,8))\n",
    "    plt.title('ROC curve')\n",
    "    plt.plot(fpr,tpr,label='ROC curve (area = %0.2f)' % roc_auc)\n",
    "    plt.plot([0,1],[0,1],'r--')\n",
    "    plt.legend(loc='lower right')\n",
    "plot_roc_curve(y_test,logit_scores)"
   ]
  },
  {
   "cell_type": "markdown",
   "metadata": {},
   "source": [
    "## Submission"
   ]
  },
  {
   "cell_type": "code",
   "execution_count": 53,
   "metadata": {},
   "outputs": [],
   "source": [
    "test_file = '/Users/canshuoguo/Downloads/GiveMeSomeCredit/cs-test.csv'\n",
    "test_data = pd.read_csv(test_file)\n",
    "test_data = test_data.iloc[:,1:]"
   ]
  },
  {
   "cell_type": "code",
   "execution_count": 54,
   "metadata": {},
   "outputs": [
    {
     "name": "stdout",
     "output_type": "stream",
     "text": [
      "shape before:(101503, 11)\n",
      "Shape after: (101503, 11)\n"
     ]
    },
    {
     "name": "stderr",
     "output_type": "stream",
     "text": [
      "/Library/anaconda3/lib/python3.8/site-packages/pandas/core/series.py:726: RuntimeWarning: divide by zero encountered in log\n",
      "  result = getattr(ufunc, method)(*inputs, **kwargs)\n"
     ]
    },
    {
     "data": {
      "text/html": [
       "<div>\n",
       "<style scoped>\n",
       "    .dataframe tbody tr th:only-of-type {\n",
       "        vertical-align: middle;\n",
       "    }\n",
       "\n",
       "    .dataframe tbody tr th {\n",
       "        vertical-align: top;\n",
       "    }\n",
       "\n",
       "    .dataframe thead th {\n",
       "        text-align: right;\n",
       "    }\n",
       "</style>\n",
       "<table border=\"1\" class=\"dataframe\">\n",
       "  <thead>\n",
       "    <tr style=\"text-align: right;\">\n",
       "      <th></th>\n",
       "      <th>RevolvingUtilizationOfUnsecuredLines</th>\n",
       "      <th>age</th>\n",
       "      <th>NumberOfTime30-59DaysPastDueNotWorse</th>\n",
       "      <th>DebtRatio</th>\n",
       "      <th>MonthlyIncome</th>\n",
       "      <th>NumberOfOpenCreditLinesAndLoans</th>\n",
       "      <th>NumberOfTimes90DaysLate</th>\n",
       "      <th>NumberRealEstateLoansOrLines</th>\n",
       "      <th>NumberOfTime60-89DaysPastDueNotWorse</th>\n",
       "      <th>NumberOfDependents</th>\n",
       "    </tr>\n",
       "  </thead>\n",
       "  <tbody>\n",
       "    <tr>\n",
       "      <th>0</th>\n",
       "      <td>-1.367522</td>\n",
       "      <td>-0.327144</td>\n",
       "      <td>0.542815</td>\n",
       "      <td>0.137280</td>\n",
       "      <td>-0.017098</td>\n",
       "      <td>0.050358</td>\n",
       "      <td>0.39034</td>\n",
       "      <td>-0.236979</td>\n",
       "      <td>0.288640</td>\n",
       "      <td>0.149942</td>\n",
       "    </tr>\n",
       "    <tr>\n",
       "      <th>1</th>\n",
       "      <td>0.287127</td>\n",
       "      <td>0.301103</td>\n",
       "      <td>0.542815</td>\n",
       "      <td>-0.319159</td>\n",
       "      <td>0.339435</td>\n",
       "      <td>-0.045460</td>\n",
       "      <td>0.39034</td>\n",
       "      <td>-0.249242</td>\n",
       "      <td>0.288640</td>\n",
       "      <td>-0.211145</td>\n",
       "    </tr>\n",
       "    <tr>\n",
       "      <th>2</th>\n",
       "      <td>1.358230</td>\n",
       "      <td>0.301103</td>\n",
       "      <td>0.542815</td>\n",
       "      <td>-0.594890</td>\n",
       "      <td>0.585497</td>\n",
       "      <td>0.142396</td>\n",
       "      <td>0.39034</td>\n",
       "      <td>0.256303</td>\n",
       "      <td>0.288640</td>\n",
       "      <td>-0.211145</td>\n",
       "    </tr>\n",
       "    <tr>\n",
       "      <th>3</th>\n",
       "      <td>0.287127</td>\n",
       "      <td>-0.327144</td>\n",
       "      <td>-0.903882</td>\n",
       "      <td>-0.594890</td>\n",
       "      <td>-0.436216</td>\n",
       "      <td>0.237688</td>\n",
       "      <td>0.39034</td>\n",
       "      <td>0.189302</td>\n",
       "      <td>0.288640</td>\n",
       "      <td>0.149942</td>\n",
       "    </tr>\n",
       "    <tr>\n",
       "      <th>4</th>\n",
       "      <td>-1.367522</td>\n",
       "      <td>-0.549604</td>\n",
       "      <td>0.542815</td>\n",
       "      <td>0.137280</td>\n",
       "      <td>-0.214968</td>\n",
       "      <td>0.050358</td>\n",
       "      <td>0.39034</td>\n",
       "      <td>-0.236979</td>\n",
       "      <td>0.288640</td>\n",
       "      <td>-0.100608</td>\n",
       "    </tr>\n",
       "    <tr>\n",
       "      <th>...</th>\n",
       "      <td>...</td>\n",
       "      <td>...</td>\n",
       "      <td>...</td>\n",
       "      <td>...</td>\n",
       "      <td>...</td>\n",
       "      <td>...</td>\n",
       "      <td>...</td>\n",
       "      <td>...</td>\n",
       "      <td>...</td>\n",
       "      <td>...</td>\n",
       "    </tr>\n",
       "    <tr>\n",
       "      <th>101498</th>\n",
       "      <td>0.287127</td>\n",
       "      <td>-0.549604</td>\n",
       "      <td>0.542815</td>\n",
       "      <td>0.137280</td>\n",
       "      <td>-0.209876</td>\n",
       "      <td>0.050358</td>\n",
       "      <td>0.39034</td>\n",
       "      <td>-0.236979</td>\n",
       "      <td>0.288640</td>\n",
       "      <td>0.149942</td>\n",
       "    </tr>\n",
       "    <tr>\n",
       "      <th>101499</th>\n",
       "      <td>-1.367522</td>\n",
       "      <td>-0.549604</td>\n",
       "      <td>-1.901725</td>\n",
       "      <td>-0.594890</td>\n",
       "      <td>0.339435</td>\n",
       "      <td>0.237688</td>\n",
       "      <td>0.39034</td>\n",
       "      <td>0.189302</td>\n",
       "      <td>0.288640</td>\n",
       "      <td>-0.353731</td>\n",
       "    </tr>\n",
       "    <tr>\n",
       "      <th>101500</th>\n",
       "      <td>1.358230</td>\n",
       "      <td>1.138058</td>\n",
       "      <td>0.542815</td>\n",
       "      <td>0.046884</td>\n",
       "      <td>-0.017098</td>\n",
       "      <td>-0.128688</td>\n",
       "      <td>0.39034</td>\n",
       "      <td>-0.236979</td>\n",
       "      <td>0.288640</td>\n",
       "      <td>0.149942</td>\n",
       "    </tr>\n",
       "    <tr>\n",
       "      <th>101501</th>\n",
       "      <td>0.287127</td>\n",
       "      <td>0.301103</td>\n",
       "      <td>0.542815</td>\n",
       "      <td>0.328588</td>\n",
       "      <td>-0.017098</td>\n",
       "      <td>0.237688</td>\n",
       "      <td>0.39034</td>\n",
       "      <td>0.189302</td>\n",
       "      <td>-2.081132</td>\n",
       "      <td>-0.353731</td>\n",
       "    </tr>\n",
       "    <tr>\n",
       "      <th>101502</th>\n",
       "      <td>0.287127</td>\n",
       "      <td>-0.549604</td>\n",
       "      <td>0.542815</td>\n",
       "      <td>0.137280</td>\n",
       "      <td>-0.017098</td>\n",
       "      <td>0.142396</td>\n",
       "      <td>0.39034</td>\n",
       "      <td>-0.236979</td>\n",
       "      <td>0.288640</td>\n",
       "      <td>0.149942</td>\n",
       "    </tr>\n",
       "  </tbody>\n",
       "</table>\n",
       "<p>101503 rows × 10 columns</p>\n",
       "</div>"
      ],
      "text/plain": [
       "       RevolvingUtilizationOfUnsecuredLines       age  \\\n",
       "0                                 -1.367522 -0.327144   \n",
       "1                                  0.287127  0.301103   \n",
       "2                                  1.358230  0.301103   \n",
       "3                                  0.287127 -0.327144   \n",
       "4                                 -1.367522 -0.549604   \n",
       "...                                     ...       ...   \n",
       "101498                             0.287127 -0.549604   \n",
       "101499                            -1.367522 -0.549604   \n",
       "101500                             1.358230  1.138058   \n",
       "101501                             0.287127  0.301103   \n",
       "101502                             0.287127 -0.549604   \n",
       "\n",
       "       NumberOfTime30-59DaysPastDueNotWorse DebtRatio MonthlyIncome  \\\n",
       "0                                  0.542815  0.137280     -0.017098   \n",
       "1                                  0.542815 -0.319159      0.339435   \n",
       "2                                  0.542815 -0.594890      0.585497   \n",
       "3                                 -0.903882 -0.594890     -0.436216   \n",
       "4                                  0.542815  0.137280     -0.214968   \n",
       "...                                     ...       ...           ...   \n",
       "101498                             0.542815  0.137280     -0.209876   \n",
       "101499                            -1.901725 -0.594890      0.339435   \n",
       "101500                             0.542815  0.046884     -0.017098   \n",
       "101501                             0.542815  0.328588     -0.017098   \n",
       "101502                             0.542815  0.137280     -0.017098   \n",
       "\n",
       "       NumberOfOpenCreditLinesAndLoans NumberOfTimes90DaysLate  \\\n",
       "0                             0.050358                 0.39034   \n",
       "1                            -0.045460                 0.39034   \n",
       "2                             0.142396                 0.39034   \n",
       "3                             0.237688                 0.39034   \n",
       "4                             0.050358                 0.39034   \n",
       "...                                ...                     ...   \n",
       "101498                        0.050358                 0.39034   \n",
       "101499                        0.237688                 0.39034   \n",
       "101500                       -0.128688                 0.39034   \n",
       "101501                        0.237688                 0.39034   \n",
       "101502                        0.142396                 0.39034   \n",
       "\n",
       "       NumberRealEstateLoansOrLines NumberOfTime60-89DaysPastDueNotWorse  \\\n",
       "0                         -0.236979                             0.288640   \n",
       "1                         -0.249242                             0.288640   \n",
       "2                          0.256303                             0.288640   \n",
       "3                          0.189302                             0.288640   \n",
       "4                         -0.236979                             0.288640   \n",
       "...                             ...                                  ...   \n",
       "101498                    -0.236979                             0.288640   \n",
       "101499                     0.189302                             0.288640   \n",
       "101500                    -0.236979                             0.288640   \n",
       "101501                     0.189302                            -2.081132   \n",
       "101502                    -0.236979                             0.288640   \n",
       "\n",
       "       NumberOfDependents  \n",
       "0                0.149942  \n",
       "1               -0.211145  \n",
       "2               -0.211145  \n",
       "3                0.149942  \n",
       "4               -0.100608  \n",
       "...                   ...  \n",
       "101498           0.149942  \n",
       "101499          -0.353731  \n",
       "101500           0.149942  \n",
       "101501          -0.353731  \n",
       "101502           0.149942  \n",
       "\n",
       "[101503 rows x 10 columns]"
      ]
     },
     "execution_count": 54,
     "metadata": {},
     "output_type": "execute_result"
    }
   ],
   "source": [
    "woeData_test = WOE_tranform(test_data,True)\n",
    "woeData_test"
   ]
  },
  {
   "cell_type": "code",
   "execution_count": 55,
   "metadata": {},
   "outputs": [
    {
     "data": {
      "text/plain": [
       "RevolvingUtilizationOfUnsecuredLines     True\n",
       "age                                     False\n",
       "NumberOfTime30-59DaysPastDueNotWorse     True\n",
       "DebtRatio                                True\n",
       "MonthlyIncome                            True\n",
       "NumberOfOpenCreditLinesAndLoans          True\n",
       "NumberOfTimes90DaysLate                  True\n",
       "NumberRealEstateLoansOrLines            False\n",
       "NumberOfTime60-89DaysPastDueNotWorse    False\n",
       "NumberOfDependents                       True\n",
       "dtype: bool"
      ]
     },
     "execution_count": 55,
     "metadata": {},
     "output_type": "execute_result"
    }
   ],
   "source": [
    "woeData_test.isnull().any()"
   ]
  },
  {
   "cell_type": "code",
   "execution_count": 56,
   "metadata": {},
   "outputs": [],
   "source": [
    "# because there are still missing values, I interpolate them with its median value of each age group.\n",
    "## first, get the columns needed to be interpolated.\n",
    "cols = woeData_test.columns[woeData_test.isnull().any()].to_list()\n",
    "imputeDf = pd.concat([woeData_test['age'],woeData_test[cols]],axis=1)\n",
    "for i in cols:\n",
    "    imputeDf[i]= pd.to_numeric(imputeDf[i],errors='ignore')"
   ]
  },
  {
   "cell_type": "code",
   "execution_count": 57,
   "metadata": {},
   "outputs": [
    {
     "data": {
      "text/plain": [
       "age                                     category\n",
       "RevolvingUtilizationOfUnsecuredLines     float64\n",
       "NumberOfTime30-59DaysPastDueNotWorse     float64\n",
       "DebtRatio                                float64\n",
       "MonthlyIncome                            float64\n",
       "NumberOfOpenCreditLinesAndLoans          float64\n",
       "NumberOfTimes90DaysLate                  float64\n",
       "NumberOfDependents                       float64\n",
       "dtype: object"
      ]
     },
     "execution_count": 57,
     "metadata": {},
     "output_type": "execute_result"
    }
   ],
   "source": [
    "imputeDf.dtypes"
   ]
  },
  {
   "cell_type": "code",
   "execution_count": 58,
   "metadata": {},
   "outputs": [],
   "source": [
    "for col in cols:\n",
    "    median_dict = imputeDf.groupby('age')[col].median().to_dict()\n",
    "    for label, median in median_dict.items():\n",
    "        imputeDf[col] = np.where((imputeDf[col].isnull()) & (imputeDf['age'] ==label),\n",
    "                                        int(median),imputeDf[col])\n",
    "        woeData_test.loc[:,col] = imputeDf[col]"
   ]
  },
  {
   "cell_type": "code",
   "execution_count": 59,
   "metadata": {},
   "outputs": [
    {
     "data": {
      "text/plain": [
       "101503"
      ]
     },
     "execution_count": 59,
     "metadata": {},
     "output_type": "execute_result"
    }
   ],
   "source": [
    "submission_score_2 = lr_model.predict_proba(woeData_test)[:,1]\n",
    "submission_score_2.shape[0]"
   ]
  },
  {
   "cell_type": "code",
   "execution_count": 63,
   "metadata": {},
   "outputs": [],
   "source": [
    "submission = pd.DataFrame( {'Id': np.arange(1,submission_score.shape[0]+1), 'Probability': submission_score})\n",
    "submission.to_csv(directory+'gimme_submision_2.csv', index=False)"
   ]
  }
 ],
 "metadata": {
  "kernelspec": {
   "display_name": "Python 3",
   "language": "python",
   "name": "python3"
  },
  "language_info": {
   "codemirror_mode": {
    "name": "ipython",
    "version": 3
   },
   "file_extension": ".py",
   "mimetype": "text/x-python",
   "name": "python",
   "nbconvert_exporter": "python",
   "pygments_lexer": "ipython3",
   "version": "3.8.5"
  }
 },
 "nbformat": 4,
 "nbformat_minor": 4
}
